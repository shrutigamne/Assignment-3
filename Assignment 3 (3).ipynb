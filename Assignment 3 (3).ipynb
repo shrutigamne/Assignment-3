{
 "cells": [
  {
   "cell_type": "markdown",
   "id": "ca483c0d",
   "metadata": {},
   "source": [
    "# Question 1"
   ]
  },
  {
   "cell_type": "code",
   "execution_count": 1,
   "id": "fc4ab9d7",
   "metadata": {},
   "outputs": [],
   "source": [
    "import selenium\n",
    "import pandas as pd\n",
    "from selenium import webdriver\n",
    "import warnings\n",
    "warnings.filterwarnings('ignore')\n",
    "from selenium.common.exceptions import StaleElementReferenceException, NoSuchElementException\n",
    "from selenium.webdriver.common.by import By\n",
    "import time"
   ]
  },
  {
   "cell_type": "code",
   "execution_count": 3,
   "id": "9678bcae",
   "metadata": {},
   "outputs": [],
   "source": [
    "driver= webdriver.Chrome(r\"C:\\Users\\HP\\Downloads\\chromedriver_win32 (2)\\chromedriver.exe\")"
   ]
  },
  {
   "cell_type": "code",
   "execution_count": 4,
   "id": "ab8acd6d",
   "metadata": {},
   "outputs": [],
   "source": [
    "# Opening the Amazon webpage on automated chrome browser\n",
    "driver.get('https://www.amazon.in/')"
   ]
  },
  {
   "cell_type": "code",
   "execution_count": 8,
   "id": "f91b707c",
   "metadata": {},
   "outputs": [
    {
     "name": "stdout",
     "output_type": "stream",
     "text": [
      "Enter any product nameguitar\n"
     ]
    }
   ],
   "source": [
    "# Entering Product\n",
    "\n",
    "Product=driver.find_element(By.XPATH,\"/html/body/div[1]/header/div/div[1]/div[2]/div/form/div[2]/div[1]/input\")\n",
    "Product.send_keys(input(\"Enter any product name\"))"
   ]
  },
  {
   "cell_type": "code",
   "execution_count": 12,
   "id": "a293a3f2",
   "metadata": {},
   "outputs": [],
   "source": [
    "search=driver.find_element(By.CLASS_NAME,\"nav-right\")\n",
    "search.click()"
   ]
  },
  {
   "cell_type": "markdown",
   "id": "1dd7a6a1",
   "metadata": {},
   "source": [
    "# Question 2"
   ]
  },
  {
   "cell_type": "code",
   "execution_count": 13,
   "id": "25f8106a",
   "metadata": {},
   "outputs": [],
   "source": [
    "Brand_name=[]\n",
    "Price=[]\n",
    "Expected_Delivery=[]"
   ]
  },
  {
   "cell_type": "code",
   "execution_count": 51,
   "id": "65b6f9ff",
   "metadata": {},
   "outputs": [
    {
     "data": {
      "text/plain": [
       "[<selenium.webdriver.remote.webelement.WebElement (session=\"4c0e87252fa51384bd46cd2c3d27db76\", element=\"3edbc90f-70ee-43d9-8fde-b151961f4e6b\")>,\n",
       " <selenium.webdriver.remote.webelement.WebElement (session=\"4c0e87252fa51384bd46cd2c3d27db76\", element=\"55e8d145-a6a8-4531-9e08-5932996a6a8f\")>,\n",
       " <selenium.webdriver.remote.webelement.WebElement (session=\"4c0e87252fa51384bd46cd2c3d27db76\", element=\"b8fdc74a-9d8c-4e59-8b12-6cac47b065a5\")>,\n",
       " <selenium.webdriver.remote.webelement.WebElement (session=\"4c0e87252fa51384bd46cd2c3d27db76\", element=\"15f89f8c-6370-475a-8d49-8d30b447a7a1\")>,\n",
       " <selenium.webdriver.remote.webelement.WebElement (session=\"4c0e87252fa51384bd46cd2c3d27db76\", element=\"52046853-94f8-4e27-94f7-d3693308b4ec\")>,\n",
       " <selenium.webdriver.remote.webelement.WebElement (session=\"4c0e87252fa51384bd46cd2c3d27db76\", element=\"f8ece54f-e400-48c4-8d52-c97a6fb1ff38\")>,\n",
       " <selenium.webdriver.remote.webelement.WebElement (session=\"4c0e87252fa51384bd46cd2c3d27db76\", element=\"2da1d1be-94e7-414b-aee7-a58572e91e22\")>,\n",
       " <selenium.webdriver.remote.webelement.WebElement (session=\"4c0e87252fa51384bd46cd2c3d27db76\", element=\"b67709d2-1fa0-4777-b3c4-e9ae06894eda\")>,\n",
       " <selenium.webdriver.remote.webelement.WebElement (session=\"4c0e87252fa51384bd46cd2c3d27db76\", element=\"25e0bc5c-ca5d-44fa-812d-2b6ea110d68a\")>,\n",
       " <selenium.webdriver.remote.webelement.WebElement (session=\"4c0e87252fa51384bd46cd2c3d27db76\", element=\"4e55db04-edd9-4586-8752-95ce068df38b\")>,\n",
       " <selenium.webdriver.remote.webelement.WebElement (session=\"4c0e87252fa51384bd46cd2c3d27db76\", element=\"f781f335-08f6-4401-a689-4589f678324e\")>,\n",
       " <selenium.webdriver.remote.webelement.WebElement (session=\"4c0e87252fa51384bd46cd2c3d27db76\", element=\"eccc0355-4d89-403d-a25a-d1a67a51e6e7\")>,\n",
       " <selenium.webdriver.remote.webelement.WebElement (session=\"4c0e87252fa51384bd46cd2c3d27db76\", element=\"e5775bcd-2a16-4b69-99ce-702978cec893\")>,\n",
       " <selenium.webdriver.remote.webelement.WebElement (session=\"4c0e87252fa51384bd46cd2c3d27db76\", element=\"f566cf8b-8b34-4618-9a12-e7d381ea0484\")>,\n",
       " <selenium.webdriver.remote.webelement.WebElement (session=\"4c0e87252fa51384bd46cd2c3d27db76\", element=\"f053e584-c0c3-4222-b71d-6592ce9fca75\")>,\n",
       " <selenium.webdriver.remote.webelement.WebElement (session=\"4c0e87252fa51384bd46cd2c3d27db76\", element=\"75654766-46ad-4b4f-ba83-752c0e62fa3f\")>,\n",
       " <selenium.webdriver.remote.webelement.WebElement (session=\"4c0e87252fa51384bd46cd2c3d27db76\", element=\"475f4707-fffc-4525-a9ef-12ec0934bbbd\")>,\n",
       " <selenium.webdriver.remote.webelement.WebElement (session=\"4c0e87252fa51384bd46cd2c3d27db76\", element=\"f69bd183-fb8e-40ec-8f2d-5bfa817cd33e\")>,\n",
       " <selenium.webdriver.remote.webelement.WebElement (session=\"4c0e87252fa51384bd46cd2c3d27db76\", element=\"b829f31a-91c5-47cf-ad91-153ca9d6af84\")>,\n",
       " <selenium.webdriver.remote.webelement.WebElement (session=\"4c0e87252fa51384bd46cd2c3d27db76\", element=\"b5633e49-dca6-4f49-9943-f308b210141f\")>,\n",
       " <selenium.webdriver.remote.webelement.WebElement (session=\"4c0e87252fa51384bd46cd2c3d27db76\", element=\"91db64a4-f13b-469f-ae4c-64275da68312\")>,\n",
       " <selenium.webdriver.remote.webelement.WebElement (session=\"4c0e87252fa51384bd46cd2c3d27db76\", element=\"53e18855-305c-42dd-9ec2-5976ba27dc3c\")>,\n",
       " <selenium.webdriver.remote.webelement.WebElement (session=\"4c0e87252fa51384bd46cd2c3d27db76\", element=\"77ca77dc-35b0-4dea-95f4-6ea91200321f\")>,\n",
       " <selenium.webdriver.remote.webelement.WebElement (session=\"4c0e87252fa51384bd46cd2c3d27db76\", element=\"919ac14a-1aca-4a24-b7c6-02067906da92\")>,\n",
       " <selenium.webdriver.remote.webelement.WebElement (session=\"4c0e87252fa51384bd46cd2c3d27db76\", element=\"263bd544-a7ba-4444-917d-90b55382dfff\")>,\n",
       " <selenium.webdriver.remote.webelement.WebElement (session=\"4c0e87252fa51384bd46cd2c3d27db76\", element=\"211a9c16-b30c-42dd-8f51-f2a0baba1339\")>,\n",
       " <selenium.webdriver.remote.webelement.WebElement (session=\"4c0e87252fa51384bd46cd2c3d27db76\", element=\"c0baaed7-9d97-46e4-8bd3-90c50159e469\")>,\n",
       " <selenium.webdriver.remote.webelement.WebElement (session=\"4c0e87252fa51384bd46cd2c3d27db76\", element=\"922641a2-ae8a-47c6-9290-3d8e9b39f4d6\")>,\n",
       " <selenium.webdriver.remote.webelement.WebElement (session=\"4c0e87252fa51384bd46cd2c3d27db76\", element=\"891a1a77-37fc-4a55-aabc-a0adc4c8f10e\")>,\n",
       " <selenium.webdriver.remote.webelement.WebElement (session=\"4c0e87252fa51384bd46cd2c3d27db76\", element=\"4115e680-45bc-4b95-b3ed-bf96c23a6be8\")>,\n",
       " <selenium.webdriver.remote.webelement.WebElement (session=\"4c0e87252fa51384bd46cd2c3d27db76\", element=\"0b33ed0b-9880-49f3-9853-05af3a2ec064\")>,\n",
       " <selenium.webdriver.remote.webelement.WebElement (session=\"4c0e87252fa51384bd46cd2c3d27db76\", element=\"ffd636a5-a363-4fee-83a7-e0660577f05a\")>,\n",
       " <selenium.webdriver.remote.webelement.WebElement (session=\"4c0e87252fa51384bd46cd2c3d27db76\", element=\"ac7cc9ea-e834-4f2c-ad5d-b019bed2ebd9\")>,\n",
       " <selenium.webdriver.remote.webelement.WebElement (session=\"4c0e87252fa51384bd46cd2c3d27db76\", element=\"4c382b42-95e1-45b7-954e-17b8a8ba0bff\")>,\n",
       " <selenium.webdriver.remote.webelement.WebElement (session=\"4c0e87252fa51384bd46cd2c3d27db76\", element=\"413eda41-42c5-4277-9573-295494f7cc1a\")>,\n",
       " <selenium.webdriver.remote.webelement.WebElement (session=\"4c0e87252fa51384bd46cd2c3d27db76\", element=\"71fe56be-da14-40d8-bca5-bedb4786a2b1\")>,\n",
       " <selenium.webdriver.remote.webelement.WebElement (session=\"4c0e87252fa51384bd46cd2c3d27db76\", element=\"04f97837-5726-4dd1-822a-4200e3ca65f4\")>,\n",
       " <selenium.webdriver.remote.webelement.WebElement (session=\"4c0e87252fa51384bd46cd2c3d27db76\", element=\"1db5f75c-a693-40ad-bbe5-d33473dfe163\")>,\n",
       " <selenium.webdriver.remote.webelement.WebElement (session=\"4c0e87252fa51384bd46cd2c3d27db76\", element=\"d23ba6ed-eb65-43e9-8c49-579478967a04\")>,\n",
       " <selenium.webdriver.remote.webelement.WebElement (session=\"4c0e87252fa51384bd46cd2c3d27db76\", element=\"ff82115c-0254-42f5-9938-cbcf4795c604\")>,\n",
       " <selenium.webdriver.remote.webelement.WebElement (session=\"4c0e87252fa51384bd46cd2c3d27db76\", element=\"c4967030-22b0-49bf-8224-c020ed1a6a17\")>,\n",
       " <selenium.webdriver.remote.webelement.WebElement (session=\"4c0e87252fa51384bd46cd2c3d27db76\", element=\"8015dcdc-791f-4cba-a5f0-5ce8e80a30f1\")>,\n",
       " <selenium.webdriver.remote.webelement.WebElement (session=\"4c0e87252fa51384bd46cd2c3d27db76\", element=\"5a729bea-12cc-4f76-a0e6-c9c9c235d6f6\")>,\n",
       " <selenium.webdriver.remote.webelement.WebElement (session=\"4c0e87252fa51384bd46cd2c3d27db76\", element=\"f5d4814b-2730-496f-9692-978e986d8362\")>,\n",
       " <selenium.webdriver.remote.webelement.WebElement (session=\"4c0e87252fa51384bd46cd2c3d27db76\", element=\"949398a3-3c29-4099-800d-95ef3d6da1f1\")>,\n",
       " <selenium.webdriver.remote.webelement.WebElement (session=\"4c0e87252fa51384bd46cd2c3d27db76\", element=\"7954c356-3790-4b6e-a29f-9ccc8f9822f1\")>,\n",
       " <selenium.webdriver.remote.webelement.WebElement (session=\"4c0e87252fa51384bd46cd2c3d27db76\", element=\"330ae43e-932c-471a-8756-7ca77f00bd9d\")>,\n",
       " <selenium.webdriver.remote.webelement.WebElement (session=\"4c0e87252fa51384bd46cd2c3d27db76\", element=\"f0474235-b0a3-43c0-8532-c3034cf6046d\")>,\n",
       " <selenium.webdriver.remote.webelement.WebElement (session=\"4c0e87252fa51384bd46cd2c3d27db76\", element=\"29f4da28-a82a-4657-aeb8-476bd7a0ea57\")>,\n",
       " <selenium.webdriver.remote.webelement.WebElement (session=\"4c0e87252fa51384bd46cd2c3d27db76\", element=\"593a1925-1176-42d6-a646-76c4210c934b\")>,\n",
       " <selenium.webdriver.remote.webelement.WebElement (session=\"4c0e87252fa51384bd46cd2c3d27db76\", element=\"2929166e-6e9d-4f44-a05a-164ce027da13\")>,\n",
       " <selenium.webdriver.remote.webelement.WebElement (session=\"4c0e87252fa51384bd46cd2c3d27db76\", element=\"b391c4a4-8826-481e-b5d1-7b3d26f9c44a\")>,\n",
       " <selenium.webdriver.remote.webelement.WebElement (session=\"4c0e87252fa51384bd46cd2c3d27db76\", element=\"ae7778b3-5c76-4fa9-bbc8-5fc956ccd879\")>,\n",
       " <selenium.webdriver.remote.webelement.WebElement (session=\"4c0e87252fa51384bd46cd2c3d27db76\", element=\"319e9382-7f5c-48c1-a66c-c4ed395c52e2\")>,\n",
       " <selenium.webdriver.remote.webelement.WebElement (session=\"4c0e87252fa51384bd46cd2c3d27db76\", element=\"bad50e68-02ae-4544-b777-070ac3a613eb\")>,\n",
       " <selenium.webdriver.remote.webelement.WebElement (session=\"4c0e87252fa51384bd46cd2c3d27db76\", element=\"fd5ca91e-6b86-44ad-a77c-421a217e84ef\")>,\n",
       " <selenium.webdriver.remote.webelement.WebElement (session=\"4c0e87252fa51384bd46cd2c3d27db76\", element=\"190dcda1-1b38-4434-aa27-06a38a374c35\")>,\n",
       " <selenium.webdriver.remote.webelement.WebElement (session=\"4c0e87252fa51384bd46cd2c3d27db76\", element=\"3b951bc3-ae59-400c-a0ee-d3405b00b7cc\")>,\n",
       " <selenium.webdriver.remote.webelement.WebElement (session=\"4c0e87252fa51384bd46cd2c3d27db76\", element=\"1dc4ad21-e6c3-4a38-afc4-1d8e6bd52916\")>,\n",
       " <selenium.webdriver.remote.webelement.WebElement (session=\"4c0e87252fa51384bd46cd2c3d27db76\", element=\"0958f7c1-52fd-44b2-8788-60d1c6fca7eb\")>,\n",
       " <selenium.webdriver.remote.webelement.WebElement (session=\"4c0e87252fa51384bd46cd2c3d27db76\", element=\"483813a6-84b3-413d-b095-49330fb551b4\")>,\n",
       " <selenium.webdriver.remote.webelement.WebElement (session=\"4c0e87252fa51384bd46cd2c3d27db76\", element=\"dd488843-1c4b-4a88-8b2f-ed0245621868\")>,\n",
       " <selenium.webdriver.remote.webelement.WebElement (session=\"4c0e87252fa51384bd46cd2c3d27db76\", element=\"e6f82ce3-57f5-40f9-a6aa-d0f656eedcbf\")>,\n",
       " <selenium.webdriver.remote.webelement.WebElement (session=\"4c0e87252fa51384bd46cd2c3d27db76\", element=\"11561396-c7f6-4733-8fb3-bf8ad41db433\")>,\n",
       " 'Kadence Frontier guitar with Online Guitar learning course , Wine Red Acoustic Guitar with Die Cast Keys, Set of Strings, Strap, Picks and Bag (Wine Red, Acoustic)',\n",
       " 'Kadence Slowhand Premium Jumbo Semi Acoustic Guitar with Heavy Padded Bag, guitar cable, Pro Capo (Black Spruce Wood)',\n",
       " 'Vault DA20 Dreadnought Acoustic Guitar With Gig-Bag, Picks, Strings Set, String Winder, Strap, Polishing Cloth And Allen Key',\n",
       " 'Vault PA36 Parlor Acoustic Guitar Kit',\n",
       " 'Juârez Acoustic Guitar, 38 Inch Cutaway, 038C with Bag, Strings, Pick and Strap, Black',\n",
       " 'Intern INT-38C Right hand Acoustic Guitar Kit, With Bag, Strings, Pick And Strap, Black, small',\n",
       " 'Intern INT-38C Acoustic Guitar Kit (Blue)',\n",
       " 'Kadence 40 Incheses Frontier Series, wood Acoustic Guitar With/Wihtout EQ Die Cast Keys Combo (Bag,strap,strings And 3 picks) (Black, Acoustic)',\n",
       " 'Intern 38C Ebony Wood Cutaway Design Acoustic Guitar with Picks And Carry Bag (Black)',\n",
       " 'Juarez Acoustic Guitar, 38 Inch Curved Body Cutaway, 38CUR with Bag, Strings, Pick and Strap, Black',\n",
       " 'Intern INT-38C Acoustic Guitar Kit (Red)',\n",
       " 'Intern INT-38C Acoustic Guitar Kit (Sunburst) with Carry bag, Picks, Strings set and Guitar Strap, Small',\n",
       " 'Juarez Acoustic Guitar, 38 Inch Cutaway with Pick Guard, 38CPG with Bag, Strings, Pick and Strap, Black',\n",
       " 'Intern Int-38c Sunburst Linden Wood Acoustic Guitar Kit with Carry Bag and Picks',\n",
       " 'Fender CD 60 Dread V3 DS 6 String Acoustic Guitar - Walnut Fretboard-Black Right-Handed One of The Most reputed Guitar Brands in the World. 0970110506',\n",
       " 'Yamaha FS100C Acoustic Guitar, Natural',\n",
       " '',\n",
       " '',\n",
       " 'Yamaha F280 Acoustic Rosewood Guitar (Natural, Beige)',\n",
       " 'JUAREZ JRZ38C 38 Inches Lindenwood Right Handed Acoustic Guitar With Bag, Strings, Pick And Strap (Natural, Brown, 6 Strings)',\n",
       " 'Juarez Acoustic Guitar Kit, 38 Inch Cutaway, 38C with Bag, Strings, Pick and Strap, TBS Transparent Blue Sunburst',\n",
       " 'Intern INT-38C Natural Linden Wood Acoustic Guitar Kit with Carry Bag & Picks',\n",
       " 'Juarez Acoustic Guitar Kit, 38 Inch Cutaway, 38C with Bag, Strings, Pick and Strap, 3TS Sunburst',\n",
       " 'Intern INT-38C Acoustic Guitar Kit (Natural)',\n",
       " 'GUITAR BRO - COMBO (Black Acoustic Guitar for Beginner, Guitar Learning Kit, Song Book, Video Lectures, Accessories like Pick, Bag)',\n",
       " 'Right Search ® Dancing Cactus and Guitar Set_CG11',\n",
       " 'Givson Venus Special Cutaway Rosewood 41 Inch Acoustic Guitar Kit with Bag, Rhythm String Set, Strap and 5 Plectrums, (sunbrust)',\n",
       " 'VD ENTERPRISE String Acoustic Guitar | Adjustable Tunning Knob | Classical Guitar Toy | Musical Instrument Learning Toy for Kids',\n",
       " 'Intern 38C Wooden Acoustic Steel-String Guitar Premium White Cutaway Design With Carry Bag, Strings, Guitar Strap And Plectrums (Int-38C-Wh)',\n",
       " 'Medellin M38 carbon fiber body 38 Incheses Acoustic Guitar (Blue Burst) Durable Matt finish With hAndrest, strings, strap, bag, 3 Picks, capo, stAnd',\n",
       " 'Kadence rosewood Guitar Frontier Series, Electric Acoustic Black Guitar With EQ, Die Cast Keys, Set Of Strings, Strap, Picks And Bag (Black EQ, Electric Acoustic)',\n",
       " 'Juarez Acoustic Guitar, 38 Inch Cutaway with Pick Guard, 38C/RDS with Bag, Strings, Pick and Strap, Red Sunburst',\n",
       " 'Ibanez MD39C-NT Acoustic Guitar (Natural), Designed in Japan and Made Specially for India',\n",
       " 'Intern INT-38C-NT-G 38 Incheses lindenwood Right HAnded Acoustic Guitar Kit With Bag, Strings, Pick And Strap (Natural, 6-Strings)',\n",
       " 'Kadence 40 Incheses Frontier Series, rosewood Semi Acoustic Guitar With Die Cast Keys (Bag,Strap,Strings And 3 Picks) (Natural)',\n",
       " 'Intern INT-38C-VT-G 38 Incheses Cutaway Right HAnded lindenwood Acoustic Guitar Kit, With Bag, Strings, Pick And Strap (Violet, 6-Strings)',\n",
       " 'Intern INT-38C-RD-G Linden Wood Cutaway Right Handed Acoustic Guitar Kit, With Bag, Strings, Pick And Strap (Red, 6 Strings)',\n",
       " 'Juârez Acoustic Guitar, 38 Inch Cutaway, JRZ38C with Bag, Strings, Pick and Strap, Red',\n",
       " 'Kadence Frontier 34inch guitar for Kids, Travel Guitar for Adult Acoustic Guitar with Die Cast Keys, Set of Strings, Strap, Picks and Bag (Black Guitar)',\n",
       " 'Juarez Acoustic Guitar, [ LEFT HANDED] 38 Inch Cutaway, 38CL/BK with Bag, Strings, Pick and Strap, Black',\n",
       " 'Yamaha FS100C Acoustic Guitar, Natural',\n",
       " 'Juarez Acoustic Guitar, 38 Inch Cutaway, 38CMB with Bag, Strings, Pick and Strap, Matte Black',\n",
       " 'Juârez Acoustic Guitar, 38 Inch Cutaway, JRZ38CT, Hippie Funky Design, with Bag, Picks, Strap & Extra String set',\n",
       " 'Revel 38 Inches Cutaway Design Acoustic Guitar with Carry bag and Plectrums. Great tone and Beginner/Learners standard size configuration for all age groups (Red)',\n",
       " 'Medellin 38\" Acoustic Guitar premium wood with adjustable Truss-rod, free online learning course, Set Of Strings, Strap, Bag and 3 Picks (Sunburst Truss Rod)…… (white)',\n",
       " 'Kadence Frontier Jumbo Semi Acoustic Guitar With Die Cast Keys, Super Combo (Bag, 1 pack Strings, Strap, Picks, Capo (Black)',\n",
       " 'Medellin M38 carbon fiber body 38 Incheses Acoustic Guitar (Black) Durable Matt finish With hAndrest, strings, strap, bag, 3 Picks, capo, stAnd',\n",
       " 'Medellin MDCF38BK 38\" Carbon Fiber Acoustic Guitar With HAndrest, Set Of Strings, Strap, Bag, 3 Picks, Capo, Guitar Wall Hanging StAnd (Matt Pink)',\n",
       " 'Juârez JRZ38C/WH 6 Strings Acoustic Guitar 38 Inch Cutaway, Right Handed, White with Bag, Strings, Picks and Strap',\n",
       " 'INTERN 41 inches Acoustic Guitar with truss rod. Includes carry bag, strings pack, strap & plectrums. Premium Wooden durable built, tonal stability & for all age-groups (Jamming Black).…',\n",
       " 'Yamaha FS100C Acoustic Guitar, Black',\n",
       " 'Schecter SGR C1 BK Electric Guitar Satin Black',\n",
       " 'Intern INT-38C-BK-G Cutaway Right Handed Acoustic Guitar Kit, with Bag, Nickel Strings, Pick And Strap (Black) -6 Strings',\n",
       " 'Fender Squier 39 Inch 6 String Cutaway Acoustic Guitar Solid Top - Hardwood Fretboard - Natural SA 135C Right-Hand One of The Most reputed Guitar Brands in the World',\n",
       " 'Juârez JRZ38C/VTS 6 Strings Acoustic Guitar 38 Inch Cutaway, Right Handed, Violet/Purple with Bag, Strings, Picks and Strap',\n",
       " 'Medellin MDCF38BK Carbon Fiber Acoustic Guitar With Handrest, Set Of Strings, Strap, Bag, 3 Picks, Capo, Guitar Wall Hanging Stand (Matt, Sunburst)',\n",
       " 'Medellin 38\" Acoustic Guitar Carbon Fiber body+(Free Online Learning Course) - Durable Matt finish with handrest, strings, strap, bag, 3 Picks, capo, stand. (natural)',\n",
       " 'JUAREZ Arpéggio 104.14 cm (41 Inch) Semi-Acoustic Guitar Kit, Thin Line Body, Spruce Top, with 4 Band EQ, Natural',\n",
       " 'Kadence Slowhand Premium Jumbo Semi Acoustic Guitar with Heavy Padded Bag, guitar cable, Pro Capo (Black Spruce Wood)',\n",
       " 'Juârez JRZ38C/MAH 6 Strings Acoustic Guitar 38 Inch Cutaway, Right Handed, Mahogany with Bag, Strings, Picks and Strap',\n",
       " 'TECHBLAZE 8 Pcs Guitar Accessories Kit Including Guitar Tuner, Guitar Capo, 3 in 1 String Winder, 5 Celluloid Guitar Picks Plectrum Acoustic Guitar Kit (Capo + Tuner+ String Winder + Picks)',\n",
       " 'Givson Ketostics Venus Special VS-BLK, Acoustic Guitar Combo with Cover/Bag, String Set, Belt and Picks',\n",
       " 'Cort AD810 Dreadnought Acoustic Guitar with Gig Bag,Tuner,Picks and Strap (Natural Bundle)',\n",
       " 'Givson Venus Special Cutaway Rosewood 41 Inch Acoustic Semi Electric Guitar Kit with Bag, Rhythm String Set, Strap and 5 Plectrums, (Black)',\n",
       " 'Kadence Frontier guitar with Online Guitar learning course , Wine Red Acoustic Guitar with Die Cast Keys, Set of Strings, Strap, Picks and Bag (Wine Red, Acoustic)',\n",
       " 'Kadence Slowhand Premium Jumbo Semi Acoustic Guitar with Heavy Padded Bag, guitar cable, Pro Capo (Black Spruce Wood)',\n",
       " 'Vault DA20 Dreadnought Acoustic Guitar With Gig-Bag, Picks, Strings Set, String Winder, Strap, Polishing Cloth And Allen Key',\n",
       " 'Vault PA36 Parlor Acoustic Guitar Kit',\n",
       " 'Juârez Acoustic Guitar, 38 Inch Cutaway, 038C with Bag, Strings, Pick and Strap, Black',\n",
       " 'Intern INT-38C Right hand Acoustic Guitar Kit, With Bag, Strings, Pick And Strap, Black, small',\n",
       " 'Intern INT-38C Acoustic Guitar Kit (Blue)',\n",
       " 'Kadence 40 Incheses Frontier Series, wood Acoustic Guitar With/Wihtout EQ Die Cast Keys Combo (Bag,strap,strings And 3 picks) (Black, Acoustic)',\n",
       " 'Intern 38C Ebony Wood Cutaway Design Acoustic Guitar with Picks And Carry Bag (Black)',\n",
       " 'Juarez Acoustic Guitar, 38 Inch Curved Body Cutaway, 38CUR with Bag, Strings, Pick and Strap, Black',\n",
       " 'Intern INT-38C Acoustic Guitar Kit (Red)',\n",
       " 'Intern INT-38C Acoustic Guitar Kit (Sunburst) with Carry bag, Picks, Strings set and Guitar Strap, Small',\n",
       " 'Juarez Acoustic Guitar, 38 Inch Cutaway with Pick Guard, 38CPG with Bag, Strings, Pick and Strap, Black',\n",
       " 'Intern Int-38c Sunburst Linden Wood Acoustic Guitar Kit with Carry Bag and Picks',\n",
       " 'Fender CD 60 Dread V3 DS 6 String Acoustic Guitar - Walnut Fretboard-Black Right-Handed One of The Most reputed Guitar Brands in the World. 0970110506',\n",
       " 'Yamaha FS100C Acoustic Guitar, Natural',\n",
       " '',\n",
       " '',\n",
       " 'Yamaha F280 Acoustic Rosewood Guitar (Natural, Beige)',\n",
       " 'JUAREZ JRZ38C 38 Inches Lindenwood Right Handed Acoustic Guitar With Bag, Strings, Pick And Strap (Natural, Brown, 6 Strings)',\n",
       " 'Juarez Acoustic Guitar Kit, 38 Inch Cutaway, 38C with Bag, Strings, Pick and Strap, TBS Transparent Blue Sunburst',\n",
       " 'Intern INT-38C Natural Linden Wood Acoustic Guitar Kit with Carry Bag & Picks',\n",
       " 'Juarez Acoustic Guitar Kit, 38 Inch Cutaway, 38C with Bag, Strings, Pick and Strap, 3TS Sunburst',\n",
       " 'Intern INT-38C Acoustic Guitar Kit (Natural)',\n",
       " 'GUITAR BRO - COMBO (Black Acoustic Guitar for Beginner, Guitar Learning Kit, Song Book, Video Lectures, Accessories like Pick, Bag)',\n",
       " 'Right Search ® Dancing Cactus and Guitar Set_CG11',\n",
       " 'Givson Venus Special Cutaway Rosewood 41 Inch Acoustic Guitar Kit with Bag, Rhythm String Set, Strap and 5 Plectrums, (sunbrust)',\n",
       " 'VD ENTERPRISE String Acoustic Guitar | Adjustable Tunning Knob | Classical Guitar Toy | Musical Instrument Learning Toy for Kids',\n",
       " 'Intern 38C Wooden Acoustic Steel-String Guitar Premium White Cutaway Design With Carry Bag, Strings, Guitar Strap And Plectrums (Int-38C-Wh)',\n",
       " 'Medellin M38 carbon fiber body 38 Incheses Acoustic Guitar (Blue Burst) Durable Matt finish With hAndrest, strings, strap, bag, 3 Picks, capo, stAnd',\n",
       " 'Kadence rosewood Guitar Frontier Series, Electric Acoustic Black Guitar With EQ, Die Cast Keys, Set Of Strings, Strap, Picks And Bag (Black EQ, Electric Acoustic)',\n",
       " 'Juarez Acoustic Guitar, 38 Inch Cutaway with Pick Guard, 38C/RDS with Bag, Strings, Pick and Strap, Red Sunburst',\n",
       " 'Ibanez MD39C-NT Acoustic Guitar (Natural), Designed in Japan and Made Specially for India',\n",
       " 'Intern INT-38C-NT-G 38 Incheses lindenwood Right HAnded Acoustic Guitar Kit With Bag, Strings, Pick And Strap (Natural, 6-Strings)',\n",
       " 'Kadence 40 Incheses Frontier Series, rosewood Semi Acoustic Guitar With Die Cast Keys (Bag,Strap,Strings And 3 Picks) (Natural)',\n",
       " 'Intern INT-38C-VT-G 38 Incheses Cutaway Right HAnded lindenwood Acoustic Guitar Kit, With Bag, Strings, Pick And Strap (Violet, 6-Strings)',\n",
       " 'Intern INT-38C-RD-G Linden Wood Cutaway Right Handed Acoustic Guitar Kit, With Bag, Strings, Pick And Strap (Red, 6 Strings)',\n",
       " 'Juârez Acoustic Guitar, 38 Inch Cutaway, JRZ38C with Bag, Strings, Pick and Strap, Red',\n",
       " 'Kadence Frontier 34inch guitar for Kids, Travel Guitar for Adult Acoustic Guitar with Die Cast Keys, Set of Strings, Strap, Picks and Bag (Black Guitar)',\n",
       " 'Juarez Acoustic Guitar, [ LEFT HANDED] 38 Inch Cutaway, 38CL/BK with Bag, Strings, Pick and Strap, Black',\n",
       " 'Yamaha FS100C Acoustic Guitar, Natural',\n",
       " 'Juarez Acoustic Guitar, 38 Inch Cutaway, 38CMB with Bag, Strings, Pick and Strap, Matte Black',\n",
       " 'Juârez Acoustic Guitar, 38 Inch Cutaway, JRZ38CT, Hippie Funky Design, with Bag, Picks, Strap & Extra String set',\n",
       " 'Revel 38 Inches Cutaway Design Acoustic Guitar with Carry bag and Plectrums. Great tone and Beginner/Learners standard size configuration for all age groups (Red)',\n",
       " 'Medellin 38\" Acoustic Guitar premium wood with adjustable Truss-rod, free online learning course, Set Of Strings, Strap, Bag and 3 Picks (Sunburst Truss Rod)…… (white)',\n",
       " 'Kadence Frontier Jumbo Semi Acoustic Guitar With Die Cast Keys, Super Combo (Bag, 1 pack Strings, Strap, Picks, Capo (Black)',\n",
       " 'Medellin M38 carbon fiber body 38 Incheses Acoustic Guitar (Black) Durable Matt finish With hAndrest, strings, strap, bag, 3 Picks, capo, stAnd',\n",
       " 'Medellin MDCF38BK 38\" Carbon Fiber Acoustic Guitar With HAndrest, Set Of Strings, Strap, Bag, 3 Picks, Capo, Guitar Wall Hanging StAnd (Matt Pink)',\n",
       " 'Juârez JRZ38C/WH 6 Strings Acoustic Guitar 38 Inch Cutaway, Right Handed, White with Bag, Strings, Picks and Strap',\n",
       " 'INTERN 41 inches Acoustic Guitar with truss rod. Includes carry bag, strings pack, strap & plectrums. Premium Wooden durable built, tonal stability & for all age-groups (Jamming Black).…',\n",
       " 'Yamaha FS100C Acoustic Guitar, Black',\n",
       " 'Schecter SGR C1 BK Electric Guitar Satin Black',\n",
       " 'Intern INT-38C-BK-G Cutaway Right Handed Acoustic Guitar Kit, with Bag, Nickel Strings, Pick And Strap (Black) -6 Strings',\n",
       " 'Fender Squier 39 Inch 6 String Cutaway Acoustic Guitar Solid Top - Hardwood Fretboard - Natural SA 135C Right-Hand One of The Most reputed Guitar Brands in the World',\n",
       " 'Juârez JRZ38C/VTS 6 Strings Acoustic Guitar 38 Inch Cutaway, Right Handed, Violet/Purple with Bag, Strings, Picks and Strap',\n",
       " 'Medellin MDCF38BK Carbon Fiber Acoustic Guitar With Handrest, Set Of Strings, Strap, Bag, 3 Picks, Capo, Guitar Wall Hanging Stand (Matt, Sunburst)',\n",
       " 'Medellin 38\" Acoustic Guitar Carbon Fiber body+(Free Online Learning Course) - Durable Matt finish with handrest, strings, strap, bag, 3 Picks, capo, stand. (natural)',\n",
       " 'JUAREZ Arpéggio 104.14 cm (41 Inch) Semi-Acoustic Guitar Kit, Thin Line Body, Spruce Top, with 4 Band EQ, Natural',\n",
       " 'Kadence Slowhand Premium Jumbo Semi Acoustic Guitar with Heavy Padded Bag, guitar cable, Pro Capo (Black Spruce Wood)',\n",
       " 'Juârez JRZ38C/MAH 6 Strings Acoustic Guitar 38 Inch Cutaway, Right Handed, Mahogany with Bag, Strings, Picks and Strap',\n",
       " 'TECHBLAZE 8 Pcs Guitar Accessories Kit Including Guitar Tuner, Guitar Capo, 3 in 1 String Winder, 5 Celluloid Guitar Picks Plectrum Acoustic Guitar Kit (Capo + Tuner+ String Winder + Picks)',\n",
       " 'Givson Ketostics Venus Special VS-BLK, Acoustic Guitar Combo with Cover/Bag, String Set, Belt and Picks',\n",
       " 'Cort AD810 Dreadnought Acoustic Guitar with Gig Bag,Tuner,Picks and Strap (Natural Bundle)',\n",
       " 'Givson Venus Special Cutaway Rosewood 41 Inch Acoustic Semi Electric Guitar Kit with Bag, Rhythm String Set, Strap and 5 Plectrums, (Black)',\n",
       " 'Kadence Frontier guitar with Online Guitar learning course , Wine Red Acoustic Guitar with Die Cast Keys, Set of Strings, Strap, Picks and Bag (Wine Red, Acoustic)',\n",
       " 'Kadence Slowhand Premium Jumbo Semi Acoustic Guitar with Heavy Padded Bag, guitar cable, Pro Capo (Black Spruce Wood)',\n",
       " 'Vault DA20 Dreadnought Acoustic Guitar With Gig-Bag, Picks, Strings Set, String Winder, Strap, Polishing Cloth And Allen Key',\n",
       " 'Vault PA36 Parlor Acoustic Guitar Kit',\n",
       " 'Juârez Acoustic Guitar, 38 Inch Cutaway, 038C with Bag, Strings, Pick and Strap, Black',\n",
       " 'Intern INT-38C Right hand Acoustic Guitar Kit, With Bag, Strings, Pick And Strap, Black, small',\n",
       " 'Intern INT-38C Acoustic Guitar Kit (Blue)',\n",
       " 'Kadence 40 Incheses Frontier Series, wood Acoustic Guitar With/Wihtout EQ Die Cast Keys Combo (Bag,strap,strings And 3 picks) (Black, Acoustic)',\n",
       " 'Intern 38C Ebony Wood Cutaway Design Acoustic Guitar with Picks And Carry Bag (Black)',\n",
       " 'Juarez Acoustic Guitar, 38 Inch Curved Body Cutaway, 38CUR with Bag, Strings, Pick and Strap, Black',\n",
       " 'Intern INT-38C Acoustic Guitar Kit (Red)',\n",
       " 'Intern INT-38C Acoustic Guitar Kit (Sunburst) with Carry bag, Picks, Strings set and Guitar Strap, Small',\n",
       " 'Juarez Acoustic Guitar, 38 Inch Cutaway with Pick Guard, 38CPG with Bag, Strings, Pick and Strap, Black',\n",
       " 'Intern Int-38c Sunburst Linden Wood Acoustic Guitar Kit with Carry Bag and Picks',\n",
       " 'Fender CD 60 Dread V3 DS 6 String Acoustic Guitar - Walnut Fretboard-Black Right-Handed One of The Most reputed Guitar Brands in the World. 0970110506',\n",
       " 'Yamaha FS100C Acoustic Guitar, Natural',\n",
       " '',\n",
       " '',\n",
       " 'Yamaha F280 Acoustic Rosewood Guitar (Natural, Beige)',\n",
       " 'JUAREZ JRZ38C 38 Inches Lindenwood Right Handed Acoustic Guitar With Bag, Strings, Pick And Strap (Natural, Brown, 6 Strings)',\n",
       " 'Juarez Acoustic Guitar Kit, 38 Inch Cutaway, 38C with Bag, Strings, Pick and Strap, TBS Transparent Blue Sunburst',\n",
       " 'Intern INT-38C Natural Linden Wood Acoustic Guitar Kit with Carry Bag & Picks',\n",
       " 'Juarez Acoustic Guitar Kit, 38 Inch Cutaway, 38C with Bag, Strings, Pick and Strap, 3TS Sunburst',\n",
       " 'Intern INT-38C Acoustic Guitar Kit (Natural)',\n",
       " 'GUITAR BRO - COMBO (Black Acoustic Guitar for Beginner, Guitar Learning Kit, Song Book, Video Lectures, Accessories like Pick, Bag)',\n",
       " 'Right Search ® Dancing Cactus and Guitar Set_CG11',\n",
       " 'Givson Venus Special Cutaway Rosewood 41 Inch Acoustic Guitar Kit with Bag, Rhythm String Set, Strap and 5 Plectrums, (sunbrust)',\n",
       " 'VD ENTERPRISE String Acoustic Guitar | Adjustable Tunning Knob | Classical Guitar Toy | Musical Instrument Learning Toy for Kids',\n",
       " 'Intern 38C Wooden Acoustic Steel-String Guitar Premium White Cutaway Design With Carry Bag, Strings, Guitar Strap And Plectrums (Int-38C-Wh)',\n",
       " 'Medellin M38 carbon fiber body 38 Incheses Acoustic Guitar (Blue Burst) Durable Matt finish With hAndrest, strings, strap, bag, 3 Picks, capo, stAnd',\n",
       " 'Kadence rosewood Guitar Frontier Series, Electric Acoustic Black Guitar With EQ, Die Cast Keys, Set Of Strings, Strap, Picks And Bag (Black EQ, Electric Acoustic)',\n",
       " 'Juarez Acoustic Guitar, 38 Inch Cutaway with Pick Guard, 38C/RDS with Bag, Strings, Pick and Strap, Red Sunburst',\n",
       " 'Ibanez MD39C-NT Acoustic Guitar (Natural), Designed in Japan and Made Specially for India',\n",
       " 'Intern INT-38C-NT-G 38 Incheses lindenwood Right HAnded Acoustic Guitar Kit With Bag, Strings, Pick And Strap (Natural, 6-Strings)',\n",
       " 'Kadence 40 Incheses Frontier Series, rosewood Semi Acoustic Guitar With Die Cast Keys (Bag,Strap,Strings And 3 Picks) (Natural)',\n",
       " 'Intern INT-38C-VT-G 38 Incheses Cutaway Right HAnded lindenwood Acoustic Guitar Kit, With Bag, Strings, Pick And Strap (Violet, 6-Strings)',\n",
       " 'Intern INT-38C-RD-G Linden Wood Cutaway Right Handed Acoustic Guitar Kit, With Bag, Strings, Pick And Strap (Red, 6 Strings)',\n",
       " 'Juârez Acoustic Guitar, 38 Inch Cutaway, JRZ38C with Bag, Strings, Pick and Strap, Red',\n",
       " 'Kadence Frontier 34inch guitar for Kids, Travel Guitar for Adult Acoustic Guitar with Die Cast Keys, Set of Strings, Strap, Picks and Bag (Black Guitar)',\n",
       " 'Juarez Acoustic Guitar, [ LEFT HANDED] 38 Inch Cutaway, 38CL/BK with Bag, Strings, Pick and Strap, Black',\n",
       " 'Yamaha FS100C Acoustic Guitar, Natural',\n",
       " 'Juarez Acoustic Guitar, 38 Inch Cutaway, 38CMB with Bag, Strings, Pick and Strap, Matte Black',\n",
       " 'Juârez Acoustic Guitar, 38 Inch Cutaway, JRZ38CT, Hippie Funky Design, with Bag, Picks, Strap & Extra String set',\n",
       " 'Revel 38 Inches Cutaway Design Acoustic Guitar with Carry bag and Plectrums. Great tone and Beginner/Learners standard size configuration for all age groups (Red)',\n",
       " 'Medellin 38\" Acoustic Guitar premium wood with adjustable Truss-rod, free online learning course, Set Of Strings, Strap, Bag and 3 Picks (Sunburst Truss Rod)…… (white)',\n",
       " 'Kadence Frontier Jumbo Semi Acoustic Guitar With Die Cast Keys, Super Combo (Bag, 1 pack Strings, Strap, Picks, Capo (Black)',\n",
       " 'Medellin M38 carbon fiber body 38 Incheses Acoustic Guitar (Black) Durable Matt finish With hAndrest, strings, strap, bag, 3 Picks, capo, stAnd',\n",
       " 'Medellin MDCF38BK 38\" Carbon Fiber Acoustic Guitar With HAndrest, Set Of Strings, Strap, Bag, 3 Picks, Capo, Guitar Wall Hanging StAnd (Matt Pink)',\n",
       " 'Juârez JRZ38C/WH 6 Strings Acoustic Guitar 38 Inch Cutaway, Right Handed, White with Bag, Strings, Picks and Strap',\n",
       " 'INTERN 41 inches Acoustic Guitar with truss rod. Includes carry bag, strings pack, strap & plectrums. Premium Wooden durable built, tonal stability & for all age-groups (Jamming Black).…',\n",
       " 'Yamaha FS100C Acoustic Guitar, Black',\n",
       " 'Schecter SGR C1 BK Electric Guitar Satin Black',\n",
       " 'Intern INT-38C-BK-G Cutaway Right Handed Acoustic Guitar Kit, with Bag, Nickel Strings, Pick And Strap (Black) -6 Strings',\n",
       " 'Fender Squier 39 Inch 6 String Cutaway Acoustic Guitar Solid Top - Hardwood Fretboard - Natural SA 135C Right-Hand One of The Most reputed Guitar Brands in the World',\n",
       " 'Juârez JRZ38C/VTS 6 Strings Acoustic Guitar 38 Inch Cutaway, Right Handed, Violet/Purple with Bag, Strings, Picks and Strap',\n",
       " 'Medellin MDCF38BK Carbon Fiber Acoustic Guitar With Handrest, Set Of Strings, Strap, Bag, 3 Picks, Capo, Guitar Wall Hanging Stand (Matt, Sunburst)',\n",
       " 'Medellin 38\" Acoustic Guitar Carbon Fiber body+(Free Online Learning Course) - Durable Matt finish with handrest, strings, strap, bag, 3 Picks, capo, stand. (natural)',\n",
       " 'JUAREZ Arpéggio 104.14 cm (41 Inch) Semi-Acoustic Guitar Kit, Thin Line Body, Spruce Top, with 4 Band EQ, Natural',\n",
       " 'Kadence Slowhand Premium Jumbo Semi Acoustic Guitar with Heavy Padded Bag, guitar cable, Pro Capo (Black Spruce Wood)',\n",
       " 'Juârez JRZ38C/MAH 6 Strings Acoustic Guitar 38 Inch Cutaway, Right Handed, Mahogany with Bag, Strings, Picks and Strap',\n",
       " 'TECHBLAZE 8 Pcs Guitar Accessories Kit Including Guitar Tuner, Guitar Capo, 3 in 1 String Winder, 5 Celluloid Guitar Picks Plectrum Acoustic Guitar Kit (Capo + Tuner+ String Winder + Picks)',\n",
       " 'Givson Ketostics Venus Special VS-BLK, Acoustic Guitar Combo with Cover/Bag, String Set, Belt and Picks',\n",
       " 'Cort AD810 Dreadnought Acoustic Guitar with Gig Bag,Tuner,Picks and Strap (Natural Bundle)',\n",
       " 'Givson Venus Special Cutaway Rosewood 41 Inch Acoustic Semi Electric Guitar Kit with Bag, Rhythm String Set, Strap and 5 Plectrums, (Black)',\n",
       " 'Kadence Frontier guitar with Online Guitar learning course , Wine Red Acoustic Guitar with Die Cast Keys, Set of Strings, Strap, Picks and Bag (Wine Red, Acoustic)',\n",
       " 'Kadence Slowhand Premium Jumbo Semi Acoustic Guitar with Heavy Padded Bag, guitar cable, Pro Capo (Black Spruce Wood)',\n",
       " 'Vault DA20 Dreadnought Acoustic Guitar With Gig-Bag, Picks, Strings Set, String Winder, Strap, Polishing Cloth And Allen Key',\n",
       " 'Vault PA36 Parlor Acoustic Guitar Kit',\n",
       " 'Juârez Acoustic Guitar, 38 Inch Cutaway, 038C with Bag, Strings, Pick and Strap, Black',\n",
       " 'Intern INT-38C Right hand Acoustic Guitar Kit, With Bag, Strings, Pick And Strap, Black, small',\n",
       " 'Intern INT-38C Acoustic Guitar Kit (Blue)',\n",
       " 'Kadence 40 Incheses Frontier Series, wood Acoustic Guitar With/Wihtout EQ Die Cast Keys Combo (Bag,strap,strings And 3 picks) (Black, Acoustic)',\n",
       " 'Intern 38C Ebony Wood Cutaway Design Acoustic Guitar with Picks And Carry Bag (Black)',\n",
       " 'Juarez Acoustic Guitar, 38 Inch Curved Body Cutaway, 38CUR with Bag, Strings, Pick and Strap, Black',\n",
       " 'Intern INT-38C Acoustic Guitar Kit (Red)',\n",
       " 'Intern INT-38C Acoustic Guitar Kit (Sunburst) with Carry bag, Picks, Strings set and Guitar Strap, Small',\n",
       " 'Juarez Acoustic Guitar, 38 Inch Cutaway with Pick Guard, 38CPG with Bag, Strings, Pick and Strap, Black',\n",
       " 'Intern Int-38c Sunburst Linden Wood Acoustic Guitar Kit with Carry Bag and Picks',\n",
       " 'Fender CD 60 Dread V3 DS 6 String Acoustic Guitar - Walnut Fretboard-Black Right-Handed One of The Most reputed Guitar Brands in the World. 0970110506',\n",
       " 'Yamaha FS100C Acoustic Guitar, Natural',\n",
       " '',\n",
       " '',\n",
       " 'Yamaha F280 Acoustic Rosewood Guitar (Natural, Beige)',\n",
       " 'JUAREZ JRZ38C 38 Inches Lindenwood Right Handed Acoustic Guitar With Bag, Strings, Pick And Strap (Natural, Brown, 6 Strings)',\n",
       " 'Juarez Acoustic Guitar Kit, 38 Inch Cutaway, 38C with Bag, Strings, Pick and Strap, TBS Transparent Blue Sunburst',\n",
       " 'Intern INT-38C Natural Linden Wood Acoustic Guitar Kit with Carry Bag & Picks',\n",
       " 'Juarez Acoustic Guitar Kit, 38 Inch Cutaway, 38C with Bag, Strings, Pick and Strap, 3TS Sunburst',\n",
       " 'Intern INT-38C Acoustic Guitar Kit (Natural)',\n",
       " 'GUITAR BRO - COMBO (Black Acoustic Guitar for Beginner, Guitar Learning Kit, Song Book, Video Lectures, Accessories like Pick, Bag)',\n",
       " 'Right Search ® Dancing Cactus and Guitar Set_CG11',\n",
       " 'Givson Venus Special Cutaway Rosewood 41 Inch Acoustic Guitar Kit with Bag, Rhythm String Set, Strap and 5 Plectrums, (sunbrust)',\n",
       " 'VD ENTERPRISE String Acoustic Guitar | Adjustable Tunning Knob | Classical Guitar Toy | Musical Instrument Learning Toy for Kids',\n",
       " 'Intern 38C Wooden Acoustic Steel-String Guitar Premium White Cutaway Design With Carry Bag, Strings, Guitar Strap And Plectrums (Int-38C-Wh)',\n",
       " 'Medellin M38 carbon fiber body 38 Incheses Acoustic Guitar (Blue Burst) Durable Matt finish With hAndrest, strings, strap, bag, 3 Picks, capo, stAnd',\n",
       " 'Kadence rosewood Guitar Frontier Series, Electric Acoustic Black Guitar With EQ, Die Cast Keys, Set Of Strings, Strap, Picks And Bag (Black EQ, Electric Acoustic)',\n",
       " 'Juarez Acoustic Guitar, 38 Inch Cutaway with Pick Guard, 38C/RDS with Bag, Strings, Pick and Strap, Red Sunburst',\n",
       " 'Ibanez MD39C-NT Acoustic Guitar (Natural), Designed in Japan and Made Specially for India',\n",
       " 'Intern INT-38C-NT-G 38 Incheses lindenwood Right HAnded Acoustic Guitar Kit With Bag, Strings, Pick And Strap (Natural, 6-Strings)',\n",
       " 'Kadence 40 Incheses Frontier Series, rosewood Semi Acoustic Guitar With Die Cast Keys (Bag,Strap,Strings And 3 Picks) (Natural)',\n",
       " 'Intern INT-38C-VT-G 38 Incheses Cutaway Right HAnded lindenwood Acoustic Guitar Kit, With Bag, Strings, Pick And Strap (Violet, 6-Strings)',\n",
       " 'Intern INT-38C-RD-G Linden Wood Cutaway Right Handed Acoustic Guitar Kit, With Bag, Strings, Pick And Strap (Red, 6 Strings)',\n",
       " 'Juârez Acoustic Guitar, 38 Inch Cutaway, JRZ38C with Bag, Strings, Pick and Strap, Red',\n",
       " 'Kadence Frontier 34inch guitar for Kids, Travel Guitar for Adult Acoustic Guitar with Die Cast Keys, Set of Strings, Strap, Picks and Bag (Black Guitar)',\n",
       " 'Juarez Acoustic Guitar, [ LEFT HANDED] 38 Inch Cutaway, 38CL/BK with Bag, Strings, Pick and Strap, Black',\n",
       " 'Yamaha FS100C Acoustic Guitar, Natural',\n",
       " 'Juarez Acoustic Guitar, 38 Inch Cutaway, 38CMB with Bag, Strings, Pick and Strap, Matte Black',\n",
       " 'Juârez Acoustic Guitar, 38 Inch Cutaway, JRZ38CT, Hippie Funky Design, with Bag, Picks, Strap & Extra String set',\n",
       " 'Revel 38 Inches Cutaway Design Acoustic Guitar with Carry bag and Plectrums. Great tone and Beginner/Learners standard size configuration for all age groups (Red)',\n",
       " 'Medellin 38\" Acoustic Guitar premium wood with adjustable Truss-rod, free online learning course, Set Of Strings, Strap, Bag and 3 Picks (Sunburst Truss Rod)…… (white)',\n",
       " 'Kadence Frontier Jumbo Semi Acoustic Guitar With Die Cast Keys, Super Combo (Bag, 1 pack Strings, Strap, Picks, Capo (Black)',\n",
       " 'Medellin M38 carbon fiber body 38 Incheses Acoustic Guitar (Black) Durable Matt finish With hAndrest, strings, strap, bag, 3 Picks, capo, stAnd',\n",
       " 'Medellin MDCF38BK 38\" Carbon Fiber Acoustic Guitar With HAndrest, Set Of Strings, Strap, Bag, 3 Picks, Capo, Guitar Wall Hanging StAnd (Matt Pink)',\n",
       " 'Juârez JRZ38C/WH 6 Strings Acoustic Guitar 38 Inch Cutaway, Right Handed, White with Bag, Strings, Picks and Strap',\n",
       " 'INTERN 41 inches Acoustic Guitar with truss rod. Includes carry bag, strings pack, strap & plectrums. Premium Wooden durable built, tonal stability & for all age-groups (Jamming Black).…',\n",
       " 'Yamaha FS100C Acoustic Guitar, Black',\n",
       " 'Schecter SGR C1 BK Electric Guitar Satin Black',\n",
       " 'Intern INT-38C-BK-G Cutaway Right Handed Acoustic Guitar Kit, with Bag, Nickel Strings, Pick And Strap (Black) -6 Strings',\n",
       " 'Fender Squier 39 Inch 6 String Cutaway Acoustic Guitar Solid Top - Hardwood Fretboard - Natural SA 135C Right-Hand One of The Most reputed Guitar Brands in the World',\n",
       " 'Juârez JRZ38C/VTS 6 Strings Acoustic Guitar 38 Inch Cutaway, Right Handed, Violet/Purple with Bag, Strings, Picks and Strap',\n",
       " 'Medellin MDCF38BK Carbon Fiber Acoustic Guitar With Handrest, Set Of Strings, Strap, Bag, 3 Picks, Capo, Guitar Wall Hanging Stand (Matt, Sunburst)',\n",
       " 'Medellin 38\" Acoustic Guitar Carbon Fiber body+(Free Online Learning Course) - Durable Matt finish with handrest, strings, strap, bag, 3 Picks, capo, stand. (natural)',\n",
       " 'JUAREZ Arpéggio 104.14 cm (41 Inch) Semi-Acoustic Guitar Kit, Thin Line Body, Spruce Top, with 4 Band EQ, Natural',\n",
       " 'Kadence Slowhand Premium Jumbo Semi Acoustic Guitar with Heavy Padded Bag, guitar cable, Pro Capo (Black Spruce Wood)',\n",
       " 'Juârez JRZ38C/MAH 6 Strings Acoustic Guitar 38 Inch Cutaway, Right Handed, Mahogany with Bag, Strings, Picks and Strap',\n",
       " 'TECHBLAZE 8 Pcs Guitar Accessories Kit Including Guitar Tuner, Guitar Capo, 3 in 1 String Winder, 5 Celluloid Guitar Picks Plectrum Acoustic Guitar Kit (Capo + Tuner+ String Winder + Picks)',\n",
       " 'Givson Ketostics Venus Special VS-BLK, Acoustic Guitar Combo with Cover/Bag, String Set, Belt and Picks',\n",
       " 'Cort AD810 Dreadnought Acoustic Guitar with Gig Bag,Tuner,Picks and Strap (Natural Bundle)',\n",
       " 'Givson Venus Special Cutaway Rosewood 41 Inch Acoustic Semi Electric Guitar Kit with Bag, Rhythm String Set, Strap and 5 Plectrums, (Black)',\n",
       " 'Kadence Frontier guitar with Online Guitar learning course , Wine Red Acoustic Guitar with Die Cast Keys, Set of Strings, Strap, Picks and Bag (Wine Red, Acoustic)',\n",
       " 'Kadence Slowhand Premium Jumbo Semi Acoustic Guitar with Heavy Padded Bag, guitar cable, Pro Capo (Black Spruce Wood)',\n",
       " 'Vault DA20 Dreadnought Acoustic Guitar With Gig-Bag, Picks, Strings Set, String Winder, Strap, Polishing Cloth And Allen Key',\n",
       " 'Vault PA36 Parlor Acoustic Guitar Kit',\n",
       " 'Juârez Acoustic Guitar, 38 Inch Cutaway, 038C with Bag, Strings, Pick and Strap, Black',\n",
       " 'Intern INT-38C Right hand Acoustic Guitar Kit, With Bag, Strings, Pick And Strap, Black, small',\n",
       " 'Intern INT-38C Acoustic Guitar Kit (Blue)',\n",
       " 'Kadence 40 Incheses Frontier Series, wood Acoustic Guitar With/Wihtout EQ Die Cast Keys Combo (Bag,strap,strings And 3 picks) (Black, Acoustic)',\n",
       " 'Intern 38C Ebony Wood Cutaway Design Acoustic Guitar with Picks And Carry Bag (Black)',\n",
       " 'Juarez Acoustic Guitar, 38 Inch Curved Body Cutaway, 38CUR with Bag, Strings, Pick and Strap, Black',\n",
       " 'Intern INT-38C Acoustic Guitar Kit (Red)',\n",
       " 'Intern INT-38C Acoustic Guitar Kit (Sunburst) with Carry bag, Picks, Strings set and Guitar Strap, Small',\n",
       " 'Juarez Acoustic Guitar, 38 Inch Cutaway with Pick Guard, 38CPG with Bag, Strings, Pick and Strap, Black',\n",
       " 'Intern Int-38c Sunburst Linden Wood Acoustic Guitar Kit with Carry Bag and Picks',\n",
       " 'Fender CD 60 Dread V3 DS 6 String Acoustic Guitar - Walnut Fretboard-Black Right-Handed One of The Most reputed Guitar Brands in the World. 0970110506',\n",
       " 'Yamaha FS100C Acoustic Guitar, Natural',\n",
       " '',\n",
       " '',\n",
       " 'Yamaha F280 Acoustic Rosewood Guitar (Natural, Beige)',\n",
       " 'JUAREZ JRZ38C 38 Inches Lindenwood Right Handed Acoustic Guitar With Bag, Strings, Pick And Strap (Natural, Brown, 6 Strings)',\n",
       " 'Juarez Acoustic Guitar Kit, 38 Inch Cutaway, 38C with Bag, Strings, Pick and Strap, TBS Transparent Blue Sunburst',\n",
       " 'Intern INT-38C Natural Linden Wood Acoustic Guitar Kit with Carry Bag & Picks',\n",
       " 'Juarez Acoustic Guitar Kit, 38 Inch Cutaway, 38C with Bag, Strings, Pick and Strap, 3TS Sunburst',\n",
       " 'Intern INT-38C Acoustic Guitar Kit (Natural)',\n",
       " 'GUITAR BRO - COMBO (Black Acoustic Guitar for Beginner, Guitar Learning Kit, Song Book, Video Lectures, Accessories like Pick, Bag)',\n",
       " 'Right Search ® Dancing Cactus and Guitar Set_CG11',\n",
       " 'Givson Venus Special Cutaway Rosewood 41 Inch Acoustic Guitar Kit with Bag, Rhythm String Set, Strap and 5 Plectrums, (sunbrust)',\n",
       " 'VD ENTERPRISE String Acoustic Guitar | Adjustable Tunning Knob | Classical Guitar Toy | Musical Instrument Learning Toy for Kids',\n",
       " 'Intern 38C Wooden Acoustic Steel-String Guitar Premium White Cutaway Design With Carry Bag, Strings, Guitar Strap And Plectrums (Int-38C-Wh)',\n",
       " 'Medellin M38 carbon fiber body 38 Incheses Acoustic Guitar (Blue Burst) Durable Matt finish With hAndrest, strings, strap, bag, 3 Picks, capo, stAnd',\n",
       " 'Kadence rosewood Guitar Frontier Series, Electric Acoustic Black Guitar With EQ, Die Cast Keys, Set Of Strings, Strap, Picks And Bag (Black EQ, Electric Acoustic)',\n",
       " 'Juarez Acoustic Guitar, 38 Inch Cutaway with Pick Guard, 38C/RDS with Bag, Strings, Pick and Strap, Red Sunburst',\n",
       " 'Ibanez MD39C-NT Acoustic Guitar (Natural), Designed in Japan and Made Specially for India',\n",
       " 'Intern INT-38C-NT-G 38 Incheses lindenwood Right HAnded Acoustic Guitar Kit With Bag, Strings, Pick And Strap (Natural, 6-Strings)',\n",
       " 'Kadence 40 Incheses Frontier Series, rosewood Semi Acoustic Guitar With Die Cast Keys (Bag,Strap,Strings And 3 Picks) (Natural)',\n",
       " 'Intern INT-38C-VT-G 38 Incheses Cutaway Right HAnded lindenwood Acoustic Guitar Kit, With Bag, Strings, Pick And Strap (Violet, 6-Strings)',\n",
       " 'Intern INT-38C-RD-G Linden Wood Cutaway Right Handed Acoustic Guitar Kit, With Bag, Strings, Pick And Strap (Red, 6 Strings)',\n",
       " 'Juârez Acoustic Guitar, 38 Inch Cutaway, JRZ38C with Bag, Strings, Pick and Strap, Red',\n",
       " 'Kadence Frontier 34inch guitar for Kids, Travel Guitar for Adult Acoustic Guitar with Die Cast Keys, Set of Strings, Strap, Picks and Bag (Black Guitar)',\n",
       " 'Juarez Acoustic Guitar, [ LEFT HANDED] 38 Inch Cutaway, 38CL/BK with Bag, Strings, Pick and Strap, Black',\n",
       " 'Yamaha FS100C Acoustic Guitar, Natural',\n",
       " 'Juarez Acoustic Guitar, 38 Inch Cutaway, 38CMB with Bag, Strings, Pick and Strap, Matte Black',\n",
       " 'Juârez Acoustic Guitar, 38 Inch Cutaway, JRZ38CT, Hippie Funky Design, with Bag, Picks, Strap & Extra String set',\n",
       " 'Revel 38 Inches Cutaway Design Acoustic Guitar with Carry bag and Plectrums. Great tone and Beginner/Learners standard size configuration for all age groups (Red)',\n",
       " 'Medellin 38\" Acoustic Guitar premium wood with adjustable Truss-rod, free online learning course, Set Of Strings, Strap, Bag and 3 Picks (Sunburst Truss Rod)…… (white)',\n",
       " 'Kadence Frontier Jumbo Semi Acoustic Guitar With Die Cast Keys, Super Combo (Bag, 1 pack Strings, Strap, Picks, Capo (Black)',\n",
       " 'Medellin M38 carbon fiber body 38 Incheses Acoustic Guitar (Black) Durable Matt finish With hAndrest, strings, strap, bag, 3 Picks, capo, stAnd',\n",
       " 'Medellin MDCF38BK 38\" Carbon Fiber Acoustic Guitar With HAndrest, Set Of Strings, Strap, Bag, 3 Picks, Capo, Guitar Wall Hanging StAnd (Matt Pink)',\n",
       " 'Juârez JRZ38C/WH 6 Strings Acoustic Guitar 38 Inch Cutaway, Right Handed, White with Bag, Strings, Picks and Strap',\n",
       " 'INTERN 41 inches Acoustic Guitar with truss rod. Includes carry bag, strings pack, strap & plectrums. Premium Wooden durable built, tonal stability & for all age-groups (Jamming Black).…',\n",
       " 'Yamaha FS100C Acoustic Guitar, Black',\n",
       " 'Schecter SGR C1 BK Electric Guitar Satin Black',\n",
       " 'Intern INT-38C-BK-G Cutaway Right Handed Acoustic Guitar Kit, with Bag, Nickel Strings, Pick And Strap (Black) -6 Strings',\n",
       " 'Fender Squier 39 Inch 6 String Cutaway Acoustic Guitar Solid Top - Hardwood Fretboard - Natural SA 135C Right-Hand One of The Most reputed Guitar Brands in the World',\n",
       " 'Juârez JRZ38C/VTS 6 Strings Acoustic Guitar 38 Inch Cutaway, Right Handed, Violet/Purple with Bag, Strings, Picks and Strap',\n",
       " 'Medellin MDCF38BK Carbon Fiber Acoustic Guitar With Handrest, Set Of Strings, Strap, Bag, 3 Picks, Capo, Guitar Wall Hanging Stand (Matt, Sunburst)',\n",
       " 'Medellin 38\" Acoustic Guitar Carbon Fiber body+(Free Online Learning Course) - Durable Matt finish with handrest, strings, strap, bag, 3 Picks, capo, stand. (natural)',\n",
       " 'JUAREZ Arpéggio 104.14 cm (41 Inch) Semi-Acoustic Guitar Kit, Thin Line Body, Spruce Top, with 4 Band EQ, Natural',\n",
       " 'Kadence Slowhand Premium Jumbo Semi Acoustic Guitar with Heavy Padded Bag, guitar cable, Pro Capo (Black Spruce Wood)',\n",
       " 'Juârez JRZ38C/MAH 6 Strings Acoustic Guitar 38 Inch Cutaway, Right Handed, Mahogany with Bag, Strings, Picks and Strap',\n",
       " 'TECHBLAZE 8 Pcs Guitar Accessories Kit Including Guitar Tuner, Guitar Capo, 3 in 1 String Winder, 5 Celluloid Guitar Picks Plectrum Acoustic Guitar Kit (Capo + Tuner+ String Winder + Picks)',\n",
       " 'Givson Ketostics Venus Special VS-BLK, Acoustic Guitar Combo with Cover/Bag, String Set, Belt and Picks',\n",
       " 'Cort AD810 Dreadnought Acoustic Guitar with Gig Bag,Tuner,Picks and Strap (Natural Bundle)',\n",
       " 'Givson Venus Special Cutaway Rosewood 41 Inch Acoustic Semi Electric Guitar Kit with Bag, Rhythm String Set, Strap and 5 Plectrums, (Black)']"
      ]
     },
     "execution_count": 51,
     "metadata": {},
     "output_type": "execute_result"
    }
   ],
   "source": [
    "# Scraping brand name from the given page\n",
    "Brand=driver.find_elements(By.XPATH,'//span[@class=\"a-size-base-plus a-color-base a-text-normal\"]')\n",
    "for i in Brand:\n",
    "    brand=i.text\n",
    "    Brand_name.append(brand)\n",
    "Brand_name[0:60]"
   ]
  },
  {
   "cell_type": "code",
   "execution_count": 59,
   "id": "8ee71306",
   "metadata": {},
   "outputs": [
    {
     "ename": "AttributeError",
     "evalue": "'WebDriver' object has no attribute 'find_element_by_xpath'",
     "output_type": "error",
     "traceback": [
      "\u001b[1;31m---------------------------------------------------------------------------\u001b[0m",
      "\u001b[1;31mAttributeError\u001b[0m                            Traceback (most recent call last)",
      "Input \u001b[1;32mIn [59]\u001b[0m, in \u001b[0;36m<cell line: 2>\u001b[1;34m()\u001b[0m\n\u001b[0;32m      1\u001b[0m \u001b[38;5;66;03m# Extracting Brand from xpath\u001b[39;00m\n\u001b[0;32m      2\u001b[0m \u001b[38;5;28;01mtry\u001b[39;00m:\n\u001b[1;32m----> 4\u001b[0m  brand \u001b[38;5;241m=\u001b[39m \u001b[43mdriver\u001b[49m\u001b[38;5;241;43m.\u001b[39;49m\u001b[43mfind_element_by_xpath\u001b[49m(\u001b[38;5;124m'\u001b[39m\u001b[38;5;124m//a[@id=\u001b[39m\u001b[38;5;124m\"\u001b[39m\u001b[38;5;124mbylineInfo\u001b[39m\u001b[38;5;124m\"\u001b[39m\u001b[38;5;124m]\u001b[39m\u001b[38;5;124m'\u001b[39m)      \n\u001b[0;32m      6\u001b[0m  Brand\u001b[38;5;241m.\u001b[39mappend(brand\u001b[38;5;241m.\u001b[39mtext)\n\u001b[0;32m      8\u001b[0m \u001b[38;5;28;01mexcept\u001b[39;00m NoSuchElementException:\n",
      "\u001b[1;31mAttributeError\u001b[0m: 'WebDriver' object has no attribute 'find_element_by_xpath'"
     ]
    }
   ],
   "source": [
    "   # Extracting Brand from xpath\n",
    "try:\n",
    "\n",
    "    brand = driver.find_element_by_xpath('//a[@id=\"bylineInfo\"]')      \n",
    "\n",
    "    Brand.append(brand.text)\n",
    "\n",
    "except NoSuchElementException:\n",
    "\n",
    "     Brand.append('-')        \n",
    "\n"
   ]
  },
  {
   "cell_type": "code",
   "execution_count": 63,
   "id": "037d1fcc",
   "metadata": {},
   "outputs": [
    {
     "data": {
      "text/plain": [
       "[]"
      ]
     },
     "execution_count": 63,
     "metadata": {},
     "output_type": "execute_result"
    }
   ],
   "source": [
    "product_urls=[]\n",
    "for url in product_urls:\n",
    "\n",
    "    driver.get(url)\n",
    "\n",
    "    time.sleep(2)\n",
    "product_urls"
   ]
  },
  {
   "cell_type": "code",
   "execution_count": 47,
   "id": "ff6e6533",
   "metadata": {},
   "outputs": [
    {
     "data": {
      "text/plain": [
       "['4,949',\n",
       " '9,900',\n",
       " '4,465',\n",
       " '7,499',\n",
       " '2,398',\n",
       " '2,299',\n",
       " '2,399',\n",
       " '6,999',\n",
       " '4,999',\n",
       " '2,099',\n",
       " '2,256',\n",
       " '2,399',\n",
       " '2,399',\n",
       " '2,637',\n",
       " '2,099',\n",
       " '12,531',\n",
       " '9,589',\n",
       " '',\n",
       " '',\n",
       " '7,348',\n",
       " '2,649',\n",
       " '2,499',\n",
       " '2,099',\n",
       " '2,649',\n",
       " '2,147',\n",
       " '8,999',\n",
       " '1,399',\n",
       " '4,199',\n",
       " '799',\n",
       " '2,499',\n",
       " '2,429',\n",
       " '5,499',\n",
       " '2,498',\n",
       " '6,990',\n",
       " '2,464',\n",
       " '5,398',\n",
       " '2,399',\n",
       " '2,217',\n",
       " '3,260',\n",
       " '3,599',\n",
       " '2,649',\n",
       " '9,589',\n",
       " '2,637',\n",
       " '2,489',\n",
       " '2,904',\n",
       " '2,399',\n",
       " '6,699',\n",
       " '2,429',\n",
       " '2,429',\n",
       " '3,317',\n",
       " '3,590',\n",
       " '9,099',\n",
       " '25,499',\n",
       " '2,299',\n",
       " '7,178',\n",
       " '7,581',\n",
       " '3,069',\n",
       " '2,248',\n",
       " '2,429',\n",
       " '6,658']"
      ]
     },
     "execution_count": 47,
     "metadata": {},
     "output_type": "execute_result"
    }
   ],
   "source": [
    "# Scrapping Price from the given page\n",
    "price_tags=driver.find_elements(By.XPATH,'//span[@class=\"a-price-whole\"]')\n",
    "for i in price_tags:\n",
    "    price=i.text\n",
    "    Price.append(price)\n",
    "Price[0:60]"
   ]
  },
  {
   "cell_type": "code",
   "execution_count": 32,
   "id": "284e88ce",
   "metadata": {},
   "outputs": [
    {
     "data": {
      "text/plain": [
       "['tomorrow, December 15',\n",
       " 'Saturday, December 17',\n",
       " 'tomorrow, December 15',\n",
       " 'tomorrow, December 15',\n",
       " 'tomorrow, December 15',\n",
       " 'tomorrow, December 15',\n",
       " 'tomorrow, December 15',\n",
       " 'Saturday, December 17',\n",
       " 'tomorrow, December 15',\n",
       " 'tomorrow, December 15',\n",
       " 'tomorrow, December 15',\n",
       " 'tomorrow, December 15',\n",
       " 'tomorrow, December 15',\n",
       " 'tomorrow, December 15',\n",
       " 'tomorrow, December 15',\n",
       " 'Saturday, December 17',\n",
       " 'tomorrow, December 15',\n",
       " 'tomorrow, December 15',\n",
       " 'tomorrow, December 15',\n",
       " 'tomorrow, December 15',\n",
       " 'tomorrow, December 15',\n",
       " 'Friday, December 16',\n",
       " 'Monday, December 19',\n",
       " 'Monday, December 19',\n",
       " 'Tuesday, December 20',\n",
       " 'Sunday, December 18',\n",
       " 'tomorrow, December 15',\n",
       " 'Friday, December 16',\n",
       " 'Saturday, December 17',\n",
       " 'tomorrow, December 15',\n",
       " 'tomorrow, December 15',\n",
       " 'tomorrow, December 15',\n",
       " 'Friday, December 16',\n",
       " 'tomorrow, December 15',\n",
       " 'tomorrow, December 15',\n",
       " 'tomorrow, December 15',\n",
       " 'Saturday, December 17',\n",
       " 'tomorrow, December 15',\n",
       " 'Sunday, December 18',\n",
       " 'tomorrow, December 15',\n",
       " 'tomorrow, December 15',\n",
       " 'tomorrow, December 15',\n",
       " 'Saturday, December 17',\n",
       " 'Saturday, December 17',\n",
       " 'Friday, December 16',\n",
       " 'tomorrow, December 15',\n",
       " 'tomorrow, December 15',\n",
       " 'Sunday, December 18',\n",
       " 'Monday, December 19',\n",
       " 'tomorrow, December 15',\n",
       " 'Thursday, December 29',\n",
       " 'Saturday, December 31',\n",
       " 'tomorrow, December 15',\n",
       " 'tomorrow, December 15',\n",
       " 'Saturday, December 17',\n",
       " 'Friday, December 16',\n",
       " 'tomorrow, December 15',\n",
       " 'Saturday, December 17',\n",
       " 'tomorrow, December 15',\n",
       " 'Monday, December 19']"
      ]
     },
     "execution_count": 32,
     "metadata": {},
     "output_type": "execute_result"
    }
   ],
   "source": [
    "# Scraping Expected Delivery from the given page\n",
    "Exp_Dev=driver.find_elements(By.XPATH,'//span[@class=\"a-color-base a-text-bold\"]')\n",
    "for i in Exp_Dev:\n",
    "    expdev=i.text\n",
    "    Expected_Delivery.append(expdev)\n",
    "Expected_Delivery[0:60]"
   ]
  },
  {
   "cell_type": "code",
   "execution_count": null,
   "id": "6191b04b",
   "metadata": {},
   "outputs": [],
   "source": [
    "# Creating the dataframe from above data-\n",
    "df=pd.DataFrame({'Brand_name':Brand_name,'Price':Price,'Expected_Delivery':Expected_Delivery})\n",
    "df"
   ]
  },
  {
   "cell_type": "markdown",
   "id": "74179261",
   "metadata": {},
   "source": [
    "# Question 3"
   ]
  },
  {
   "cell_type": "code",
   "execution_count": 2,
   "id": "fd9e58ae",
   "metadata": {},
   "outputs": [],
   "source": [
    "import selenium\n",
    "import pandas as pd\n",
    "from selenium import webdriver\n",
    "import warnings\n",
    "warnings.filterwarnings('ignore')\n",
    "from selenium.common.exceptions import StaleElementReferenceException, NoSuchElementException\n",
    "from selenium.webdriver.common.by import By\n",
    "import time"
   ]
  },
  {
   "cell_type": "code",
   "execution_count": 3,
   "id": "d51f0e19",
   "metadata": {},
   "outputs": [],
   "source": [
    "driver= webdriver.Chrome(r\"C:\\Users\\HP\\Downloads\\chromedriver_win32 (2)\\chromedriver.exe\")"
   ]
  },
  {
   "cell_type": "code",
   "execution_count": 4,
   "id": "3e0014da",
   "metadata": {},
   "outputs": [],
   "source": [
    "# Opening the Google \n",
    "driver.get('https://images.google.com/?gws_rd=ssl')"
   ]
  },
  {
   "cell_type": "code",
   "execution_count": 8,
   "id": "c4687ddb",
   "metadata": {},
   "outputs": [],
   "source": [
    "# Entering Product\n",
    "\n",
    "Product=driver.find_element(By.XPATH,\"/html/body/div[1]/div[3]/form/div[1]/div[1]/div[1]/div/div[2]/input\")\n",
    "Product.send_keys('Fruits')"
   ]
  },
  {
   "cell_type": "code",
   "execution_count": 10,
   "id": "623212ec",
   "metadata": {},
   "outputs": [],
   "source": [
    "search=driver.find_element(By.XPATH,\"/html/body/div[1]/div[3]/form/div[1]/div[1]/div[1]/button/div/span\")\n",
    "search.click()"
   ]
  },
  {
   "cell_type": "code",
   "execution_count": 18,
   "id": "665b3769",
   "metadata": {},
   "outputs": [],
   "source": [
    "images=[]\n",
    "\n",
    "# Scraping Images from the given page\n",
    "Image=driver.find_elements(By.XPATH,'//div[@class=\" bRMDJf islir\"]')\n",
    "for i in Image[0:10]:\n",
    "    source=i.get_attribute('src')\n",
    "    if source is not None:\n",
    "        if(source[0:4]=='http'):\n",
    "            images.append(source)\n",
    "            \n",
    "for i in range(len(images)):\n",
    "    if i > 10:\n",
    "        breakBy.XPATH,\n",
    "    print('Downloading {0} of {1} images' .format(i,10))\n",
    "    response=requests.get(images[i])\n",
    "    file=open(r\"C:\\Users\\HP\\OneDrive\\Pictures\\Saved Pictures\"+str(i)+\".jpg\",\"wb\")\n",
    "    file.write(response.content)"
   ]
  },
  {
   "cell_type": "code",
   "execution_count": 21,
   "id": "a9b7d4c3",
   "metadata": {},
   "outputs": [
    {
     "name": "stdout",
     "output_type": "stream",
     "text": [
      "Defaulting to user installation because normal site-packages is not writeable\n",
      "Requirement already satisfied: bs4 in c:\\users\\hp\\appdata\\roaming\\python\\python39\\site-packages (0.0.1)\n",
      "Requirement already satisfied: beautifulsoup4 in c:\\programdata\\anaconda3\\lib\\site-packages (from bs4) (4.11.1)\n",
      "Requirement already satisfied: soupsieve>1.2 in c:\\programdata\\anaconda3\\lib\\site-packages (from beautifulsoup4->bs4) (2.3.1)\n",
      "Defaulting to user installation because normal site-packages is not writeable\n",
      "Requirement already satisfied: requests in c:\\programdata\\anaconda3\\lib\\site-packages (2.27.1)\n",
      "Requirement already satisfied: idna<4,>=2.5 in c:\\programdata\\anaconda3\\lib\\site-packages (from requests) (3.3)\n",
      "Requirement already satisfied: urllib3<1.27,>=1.21.1 in c:\\programdata\\anaconda3\\lib\\site-packages (from requests) (1.26.9)\n",
      "Requirement already satisfied: certifi>=2017.4.17 in c:\\programdata\\anaconda3\\lib\\site-packages (from requests) (2021.10.8)\n",
      "Requirement already satisfied: charset-normalizer~=2.0.0 in c:\\programdata\\anaconda3\\lib\\site-packages (from requests) (2.0.4)\n"
     ]
    },
    {
     "data": {
      "text/plain": [
       "<Response [200]>"
      ]
     },
     "execution_count": 21,
     "metadata": {},
     "output_type": "execute_result"
    }
   ],
   "source": [
    "!pip install bs4\n",
    "!pip install requests\n",
    "# importing the required libraries\n",
    "from bs4 import BeautifulSoup\n",
    "import requests\n",
    "\n",
    "page = requests.get('https://www.google.com/search?q=Fruits&tbm=isch&source=hp&biw=1036&bih=666&ei=3eudY5avNYqomAXp86PwBw&iflsig=AJiK0e8AAAAAY5357azUt5xpQbb3LoHFR1dzpa2viiOl&ved=0ahUKEwjWkamCh4H8AhUKFKYKHen5CH4Q4dUDCAc&oq=Fruits&gs_lcp=CgNpbWcQDDIICAAQgAQQsQMyCAgAEIAEELEDMggIABCABBCxAzIICAAQgAQQsQMyCAgAEIAEELEDMggIABCABBCxAzIICAAQgAQQsQMyCAgAEIAEELEDMggIABCABBCxAzIFCAAQgAQ6CQgAEIAEEAoQGFAAWPvsA2DV1QloAHAAeASAAaUBiAHHC5IBBDEuMTGYAQCgAQGqAQtnd3Mtd2l6LWltZ7ABAA&sclient=img')\n",
    "page"
   ]
  },
  {
   "cell_type": "code",
   "execution_count": 32,
   "id": "157364c7",
   "metadata": {},
   "outputs": [
    {
     "data": {
      "text/plain": [
       "<!DOCTYPE html PUBLIC \"-//WAPFORUM//DTD XHTML Mobile 1.0//EN\" \"http://www.wapforum.org/DTD/xhtml-mobile10.dtd\">\n",
       "<html lang=\"en-IN\" xmlns=\"http://www.w3.org/1999/xhtml\"><head><meta content=\"application/xhtml+xml; charset=utf-8\" http-equiv=\"Content-Type\"/><meta content=\"no-cache\" name=\"Cache-Control\"/><title>Fruits - Google Search</title><style>a{text-decoration:none;color:inherit}a:hover{text-decoration:underline}a img{border:0}body{font-family:arial,sans-serif;padding:8px;margin:0 auto;max-width:700px;min-width:240px;}.FbhRzb{border-left:thin solid #dadce0;border-right:thin solid #dadce0;border-top:thin solid #dadce0;height:40px;overflow:hidden}.n692Zd{margin-bottom:10px}.cvifge{height:40px;border-spacing:0}.QvGUP{height:40px;padding:0 8px 0 8px;vertical-align:top}.O4cRJf{height:40px;width:100%;padding:0;padding-right:16px}.O1ePr{height:40px;padding:0;vertical-align:top}.kgJEQe{height:36px;width:98px;vertical-align:top;margin-top:4px}.lXLRf{vertical-align:top}.MhzMZd{border:0;vertical-align:middle;font-size:14px;height:40px;padding:0;width:100%;padding-left:16px}.xB0fq{height:40px;border:none;font-size:14px;background-color:#1a73e8;color:#fff;padding:0 16px;margin:0;vertical-align:top;cursor:pointer}.xB0fq:focus{border:1px solid #1a73e8}.M7pB2{border:thin solid #dadce0;margin:0 0 3px 0;font-size:13px;font-weight:500;height:40px}.euZec{width:100%;height:40px;text-align:center;border-spacing:0}table.euZec td{padding:0;width:25%}.QIqI7{display:inline-block;padding-top:4px;font-weight:bold;color:#4285f4}.EY24We{border-bottom:2px solid #4285f4}.CsQyDc{display:inline-block;color:#70757a}.TuS8Ad{font-size:14px}.HddGcc{padding:8px;color:#70757a}.dzp8ae{font-weight:bold;color:#3c4043}.rEM8G{color:#70757a}.bookcf{table-layout:fixed;width:100%;border-spacing:0}.InWNIe{text-align:center}.uZgmoc{border:thin solid #dadce0;color:#70757a;font-size:14px;text-align:center;table-layout:fixed;width:100%}.frGj1b{display:block;padding:12px 0 12px 0;width:100%}.BnJWBc{text-align:center;padding:6px 0 13px 0;height:35px}.e3goi{vertical-align:top;padding:0;height:180px}.GpQGbf{margin:auto;border-collapse:collapse;border-spacing:0;width:100%}</style></head><body><style>.X6ZCif{color:#202124;font-size:11px;line-height:16px;display:inline-block;padding-top:2px;overflow:hidden;padding-bottom:4px;width:100%}.TwVfHd{border-radius:16px;border:thin solid #dadce0;display:inline-block;padding:8px 8px;margin-right:8px;margin-bottom:4px}.yekiAe{background-color:#dadce0}.mnTahd{width:100%}.ezO2md{border:thin solid #dadce0;padding:12px 16px 12px 16px;margin-bottom:10px;font-family:arial,sans-serif}.lIMUZd{font-family:arial,sans-serif}.IkMU6e{border-spacing:0}.SjCsie{width:100%}.EnarA{text-align:center}.NZWO1b{width:162px;height:140px;line-height:140px;overflow:'hidden';text-align:center}.yWs4tf{text-align:center;margin:auto;vertical-align:middle;max-width:162px;max-height:140px}.jB2rPd{padding-top:2px;padding-bottom:8px;}.fYyStc{word-break:break-word}.ynsChf{display:block;white-space:nowrap;overflow:hidden;text-overflow:ellipsis}.Fj3V3b{color:#1967d2;font-size:14px;line-height:20px}.FrIlee{color:#202124;font-size:11px;line-height:16px}.F9iS2e{color:#70757a;font-size:11px;line-height:16px}.WMQ2Le{color:#70757a;font-size:12px;line-height:16px}.x3G5ab{color:#202124;font-size:12px;line-height:16px}.fuLhoc{color:#1967d2;font-size:16px;line-height:20px}.epoveb{font-size:24px;line-height:28px;font-weight:400;color:#202124}.dXDvrc{color:#0d652d;font-size:14px;line-height:20px;word-wrap:break-word}.dloBPe{font-weight:bold}.YVIcad{color:#70757a}.JkVVdd{color:#ea4335}.oXZRFd{color:#ea4335}.MQHtg{color:#fbbc04}.pyMRrb{color:#1e8e3e}.EtTZid{color:#1e8e3e}.M3vVJe{color:#1967d2}.qXLe6d{display:block}.NHQNef{font-style:italic}.Cb8Z7c{white-space:pre}a.ZWRArf{text-decoration:none}a .CVA68e:hover{text-decoration:underline}</style><div class=\"n692Zd\"><div class=\"BnJWBc\"><a class=\"lXLRf\" href=\"/?biw=1036&amp;bih=666&amp;output=images&amp;ie=UTF-8&amp;tbm=isch&amp;sa=X&amp;ved=0ahUKEwjwk8jgkIH8AhVMcGwGHXJWDr8QPAgC\"><img alt=\"Google\" class=\"kgJEQe\" src=\"/images/branding/searchlogo/1x/googlelogo_desk_heirloom_color_150x55dp.gif\"/></a></div><div class=\"FbhRzb\"><form action=\"/search\"><input name=\"biw\" type=\"hidden\" value=\"1036\"/><input name=\"bih\" type=\"hidden\" value=\"666\"/><input name=\"ie\" type=\"hidden\" value=\"ISO-8859-1\"/><input name=\"tbm\" type=\"hidden\" value=\"isch\"/><input name=\"oq\" type=\"hidden\"/><input name=\"aqs\" type=\"hidden\"/><table class=\"cvifge\"><tr><td class=\"O4cRJf\"><input class=\"MhzMZd\" name=\"q\" type=\"text\" value=\"Fruits\"/></td><td class=\"O1ePr\"><input class=\"xB0fq\" type=\"submit\" value=\"Search\"/></td></tr></table></form></div><div class=\"M7pB2\"><table class=\"euZec\"><tbody><tr><td><a class=\"CsQyDc\" href=\"/search?q=Fruits&amp;biw=1036&amp;bih=666&amp;ie=UTF-8&amp;source=lnms&amp;sa=X&amp;ved=0ahUKEwjwk8jgkIH8AhVMcGwGHXJWDr8Q_AUIBCgA\">ALL</a></td><td class=\"EY24We\"><span class=\"QIqI7\">IMAGES</span></td><td><a class=\"CsQyDc\" href=\"/search?q=Fruits&amp;biw=1036&amp;bih=666&amp;ie=UTF-8&amp;tbm=nws&amp;source=lnms&amp;sa=X&amp;ved=0ahUKEwjwk8jgkIH8AhVMcGwGHXJWDr8Q_AUIBigC\">NEWS</a></td><td><a class=\"CsQyDc\" href=\"/search?q=Fruits&amp;biw=1036&amp;bih=666&amp;ie=UTF-8&amp;tbm=vid&amp;source=lnms&amp;sa=X&amp;ved=0ahUKEwjwk8jgkIH8AhVMcGwGHXJWDr8Q_AUIBygD\">VIDEOS</a></td></tr></tbody></table></div></div><div class=\"X6ZCif\"><a class=\"TwVfHd\" href=\"/search?biw=1036&amp;bih=666&amp;ie=UTF-8&amp;tbm=isch&amp;q=Fruits&amp;chips=q:fruits,g_1:apple&amp;sa=X&amp;ved=0ahUKEwjwk8jgkIH8AhVMcGwGHXJWDr8Q4lYICygA\">apple</a><a class=\"TwVfHd\" href=\"/search?biw=1036&amp;bih=666&amp;ie=UTF-8&amp;tbm=isch&amp;q=Fruits&amp;chips=q:fruits,g_1:orange&amp;sa=X&amp;ved=0ahUKEwjwk8jgkIH8AhVMcGwGHXJWDr8Q4lYIDCgB\">orange</a><a class=\"TwVfHd\" href=\"/search?biw=1036&amp;bih=666&amp;ie=UTF-8&amp;tbm=isch&amp;q=Fruits&amp;chips=q:fruits,g_1:drawing&amp;sa=X&amp;ved=0ahUKEwjwk8jgkIH8AhVMcGwGHXJWDr8Q4lYIDSgC\">drawing</a><a class=\"TwVfHd\" href=\"/search?biw=1036&amp;bih=666&amp;ie=UTF-8&amp;tbm=isch&amp;q=Fruits&amp;chips=q:fruits,g_1:clipart&amp;sa=X&amp;ved=0ahUKEwjwk8jgkIH8AhVMcGwGHXJWDr8Q4lYIDigD\">clipart</a><a class=\"TwVfHd\" href=\"/search?biw=1036&amp;bih=666&amp;ie=UTF-8&amp;tbm=isch&amp;q=Fruits&amp;chips=q:fruits,g_1:mango&amp;sa=X&amp;ved=0ahUKEwjwk8jgkIH8AhVMcGwGHXJWDr8Q4lYIDygE\">mango</a><a class=\"TwVfHd\" href=\"/search?biw=1036&amp;bih=666&amp;ie=UTF-8&amp;tbm=isch&amp;q=Fruits&amp;chips=q:fruits,g_1:wallpaper&amp;sa=X&amp;ved=0ahUKEwjwk8jgkIH8AhVMcGwGHXJWDr8Q4lYIECgF\">wallpaper</a><a class=\"TwVfHd\" href=\"/search?biw=1036&amp;bih=666&amp;ie=UTF-8&amp;tbm=isch&amp;q=Fruits&amp;chips=q:fruits,g_1:single&amp;sa=X&amp;ved=0ahUKEwjwk8jgkIH8AhVMcGwGHXJWDr8Q4lYIESgG\">single</a><a class=\"TwVfHd\" href=\"/search?biw=1036&amp;bih=666&amp;ie=UTF-8&amp;tbm=isch&amp;q=Fruits&amp;chips=q:fruits,g_1:strawberry&amp;sa=X&amp;ved=0ahUKEwjwk8jgkIH8AhVMcGwGHXJWDr8Q4lYIEigH\">strawberry</a><a class=\"TwVfHd\" href=\"/search?biw=1036&amp;bih=666&amp;ie=UTF-8&amp;tbm=isch&amp;q=Fruits&amp;chips=q:fruits,g_1:vegetable&amp;sa=X&amp;ved=0ahUKEwjwk8jgkIH8AhVMcGwGHXJWDr8Q4lYIEygI\">vegetable</a><a class=\"TwVfHd\" href=\"/search?biw=1036&amp;bih=666&amp;ie=UTF-8&amp;tbm=isch&amp;q=Fruits&amp;chips=q:fruits,g_1:tropical&amp;sa=X&amp;ved=0ahUKEwjwk8jgkIH8AhVMcGwGHXJWDr8Q4lYIFCgJ\">tropical</a></div><div><table class=\"GpQGbf\"><tr><td align=\"center\" class=\"e3goi\"><div class=\"mnTahd\"> <div> <div class=\"lIMUZd\"><div><table class=\"IkMU6e\"><tr><td><a href=\"/url?q=https://www.goodhousekeeping.com/health/diet-nutrition/g28511617/healthiest-fruits/&amp;sa=U&amp;ved=2ahUKEwjwk8jgkIH8AhVMcGwGHXJWDr8QqoUBegQIABAB&amp;usg=AOvVaw0u2ZYi77i8_PJhK0dbuuk2\"><div class=\"NZWO1b\"><img alt=\"\" class=\"yWs4tf\" src=\"https://encrypted-tbn0.gstatic.com/images?q=tbn:ANd9GcSUoYZrOBiuhDQEVYeEORw7zrra9mMTtuxix2i91p3BIjbws0LphL257yJVndo&amp;s\"/></div></a></td></tr><tr><td><a href=\"/url?q=https://www.goodhousekeeping.com/health/diet-nutrition/g28511617/healthiest-fruits/&amp;sa=U&amp;ved=2ahUKEwjwk8jgkIH8AhVMcGwGHXJWDr8Qr4kDegQIABAC&amp;usg=AOvVaw15neG4gK4CjXiOd6YIJjeZ\"><div class=\"jB2rPd\"> <span class=\"qXLe6d x3G5ab\"> <span class=\"fYyStc\">25 Healthiest Fruits You...</span> </span> <span class=\"qXLe6d F9iS2e\"> <span class=\"fYyStc\">www.goodhousekeeping.com</span> </span> </div></a></td></tr></table></div></div> </div> </div></td><td align=\"center\" class=\"e3goi\"><div class=\"mnTahd\"> <div> <div class=\"lIMUZd\"><div><table class=\"IkMU6e\"><tr><td><a href=\"/url?q=https://www.pinterest.com/pin/649081365039047796/&amp;sa=U&amp;ved=2ahUKEwjwk8jgkIH8AhVMcGwGHXJWDr8QqoUBegQIExAB&amp;usg=AOvVaw01L7TdOsysN3Va9mIQHIz5\"><div class=\"NZWO1b\"><img alt=\"\" class=\"yWs4tf\" src=\"https://encrypted-tbn0.gstatic.com/images?q=tbn:ANd9GcQ1c1DAfgF3XONwSuKO3OrytUnolbKyE9ZoLSuQQCGb8udf05FY2C3bUobXqg&amp;s\"/></div></a></td></tr><tr><td><a href=\"/url?q=https://www.pinterest.com/pin/649081365039047796/&amp;sa=U&amp;ved=2ahUKEwjwk8jgkIH8AhVMcGwGHXJWDr8Qr4kDegQIExAC&amp;usg=AOvVaw0iaI74fmuoGSo29_JCJcp2\"><div class=\"jB2rPd\"> <span class=\"qXLe6d x3G5ab\"> <span class=\"fYyStc\">Tropical Fruits: List of...</span> </span> <span class=\"qXLe6d F9iS2e\"> <span class=\"fYyStc\">www.pinterest.com</span> </span> </div></a></td></tr></table></div></div> </div> </div></td><td align=\"center\" class=\"e3goi\"><div class=\"mnTahd\"> <div> <div class=\"lIMUZd\"><div><table class=\"IkMU6e\"><tr><td><a href=\"/url?q=https://onlymyenglish.com/fruits-name-english/&amp;sa=U&amp;ved=2ahUKEwjwk8jgkIH8AhVMcGwGHXJWDr8QqoUBegQIEhAB&amp;usg=AOvVaw0w3q8el07cpzN28mM43dKz\"><div class=\"NZWO1b\"><img alt=\"\" class=\"yWs4tf\" src=\"https://encrypted-tbn0.gstatic.com/images?q=tbn:ANd9GcSAPRMJNugD2opEJjbKgi1_zT4e2KqeyOD0EkuhYBlGrFFUargNKmMz4dwL4n0&amp;s\"/></div></a></td></tr><tr><td><a href=\"/url?q=https://onlymyenglish.com/fruits-name-english/&amp;sa=U&amp;ved=2ahUKEwjwk8jgkIH8AhVMcGwGHXJWDr8Qr4kDegQIEhAC&amp;usg=AOvVaw3suTKXqkJupipNTsKf078g\"><div class=\"jB2rPd\"> <span class=\"qXLe6d x3G5ab\"> <span class=\"fYyStc\">50+ List of All Fruits Name...</span> </span> <span class=\"qXLe6d F9iS2e\"> <span class=\"fYyStc\">onlymyenglish.com</span> </span> </div></a></td></tr></table></div></div> </div> </div></td><td align=\"center\" class=\"e3goi\"><div class=\"mnTahd\"> <div> <div class=\"lIMUZd\"><div><table class=\"IkMU6e\"><tr><td><a href=\"/url?q=https://www.healthyeating.org/nutrition-topics/general/food-groups/fruits&amp;sa=U&amp;ved=2ahUKEwjwk8jgkIH8AhVMcGwGHXJWDr8QqoUBegQIERAB&amp;usg=AOvVaw3Sr7PliKcv44YI4YQokNxF\"><div class=\"NZWO1b\"><img alt=\"\" class=\"yWs4tf\" src=\"https://encrypted-tbn0.gstatic.com/images?q=tbn:ANd9GcQ86pCpQFnZQzJlSUCJ-i04qECrYBku6HdYZj-wObv4baRAki2NSYnimmzNpw&amp;s\"/></div></a></td></tr><tr><td><a href=\"/url?q=https://www.healthyeating.org/nutrition-topics/general/food-groups/fruits&amp;sa=U&amp;ved=2ahUKEwjwk8jgkIH8AhVMcGwGHXJWDr8Qr4kDegQIERAC&amp;usg=AOvVaw2h8TctH1XXq0OKl79J4L7_\"><div class=\"jB2rPd\"> <span class=\"qXLe6d x3G5ab\"> <span class=\"fYyStc\">Fruits</span> </span> <span class=\"qXLe6d F9iS2e\"> <span class=\"fYyStc\">www.healthyeating.org</span> </span> </div></a></td></tr></table></div></div> </div> </div></td></tr><tr><td align=\"center\" class=\"e3goi\"><div class=\"mnTahd\"> <div> <div class=\"lIMUZd\"><div><table class=\"IkMU6e\"><tr><td><a href=\"/url?q=https://englishgrammarhere.com/vocabulary/fruits-names-list-definition-and-examples/&amp;sa=U&amp;ved=2ahUKEwjwk8jgkIH8AhVMcGwGHXJWDr8QqoUBegQIDBAB&amp;usg=AOvVaw0eBMC9Qmc4LXSyiQIt-kdo\"><div class=\"NZWO1b\"><img alt=\"\" class=\"yWs4tf\" src=\"https://encrypted-tbn0.gstatic.com/images?q=tbn:ANd9GcQF0IKCRPcaDP2Bcqb5K2xNM_5e3JkYdAQOJVXHSGgeoAECwFctx0jvjV14ub4&amp;s\"/></div></a></td></tr><tr><td><a href=\"/url?q=https://englishgrammarhere.com/vocabulary/fruits-names-list-definition-and-examples/&amp;sa=U&amp;ved=2ahUKEwjwk8jgkIH8AhVMcGwGHXJWDr8Qr4kDegQIDBAC&amp;usg=AOvVaw2pLxr59DtqgdXyKPnofMwJ\"><div class=\"jB2rPd\"> <span class=\"qXLe6d x3G5ab\"> <span class=\"fYyStc\">Fruits Names List,...</span> </span> <span class=\"qXLe6d F9iS2e\"> <span class=\"fYyStc\">englishgrammarhere.com</span> </span> </div></a></td></tr></table></div></div> </div> </div></td><td align=\"center\" class=\"e3goi\"><div class=\"mnTahd\"> <div> <div class=\"lIMUZd\"><div><table class=\"IkMU6e\"><tr><td><a href=\"/url?q=https://www.amazon.in/Fruits-All-One-Dreamland-Publications/dp/8184510594&amp;sa=U&amp;ved=2ahUKEwjwk8jgkIH8AhVMcGwGHXJWDr8QqoUBegQIEBAB&amp;usg=AOvVaw3mar7YjCLT9dcliZcXyCsR\"><div class=\"NZWO1b\"><img alt=\"\" class=\"yWs4tf\" src=\"https://encrypted-tbn0.gstatic.com/images?q=tbn:ANd9GcSQ2edPW6ZEEqm8YVsZNbPSEoPKWn9Xyx8nJtRf0WXdcfzfy5NFItDPApJh-A&amp;s\"/></div></a></td></tr><tr><td><a href=\"/url?q=https://www.amazon.in/Fruits-All-One-Dreamland-Publications/dp/8184510594&amp;sa=U&amp;ved=2ahUKEwjwk8jgkIH8AhVMcGwGHXJWDr8Qr4kDegQIEBAC&amp;usg=AOvVaw0szlGhflDGtl84PmPkkd-z\"><div class=\"jB2rPd\"> <span class=\"qXLe6d x3G5ab\"> <span class=\"fYyStc\">Buy Fruits (All in One)...</span> </span> <span class=\"qXLe6d F9iS2e\"> <span class=\"fYyStc\">www.amazon.in</span> </span> </div></a></td></tr></table></div></div> </div> </div></td><td align=\"center\" class=\"e3goi\"><div class=\"mnTahd\"> <div> <div class=\"lIMUZd\"><div><table class=\"IkMU6e\"><tr><td><a href=\"/url?q=https://www.herzindagi.com/diet-nutrition/electrolyte-rich-winter-fruits-that-you-must-eat-every-day-to-improve-your-health-article-212531&amp;sa=U&amp;ved=2ahUKEwjwk8jgkIH8AhVMcGwGHXJWDr8QqoUBegQICxAB&amp;usg=AOvVaw260s2LuJ5sySsaSWUupZNN\"><div class=\"NZWO1b\"><img alt=\"\" class=\"yWs4tf\" src=\"https://encrypted-tbn0.gstatic.com/images?q=tbn:ANd9GcQvz-hWinXkiT2vM3ehExQ0UD0YZOsWc0bDD2tvNbhiypN8F2BBDjqRqoLXsw&amp;s\"/></div></a></td></tr><tr><td><a href=\"/url?q=https://www.herzindagi.com/diet-nutrition/electrolyte-rich-winter-fruits-that-you-must-eat-every-day-to-improve-your-health-article-212531&amp;sa=U&amp;ved=2ahUKEwjwk8jgkIH8AhVMcGwGHXJWDr8Qr4kDegQICxAC&amp;usg=AOvVaw0LhUcdbwaZEOuEhM2PeVXp\"><div class=\"jB2rPd\"> <span class=\"qXLe6d x3G5ab\"> <span class=\"fYyStc\">Winter Fruits | Benefits Of...</span> </span> <span class=\"qXLe6d F9iS2e\"> <span class=\"fYyStc\">www.herzindagi.com</span> </span> </div></a></td></tr></table></div></div> </div> </div></td><td align=\"center\" class=\"e3goi\"><div class=\"mnTahd\"> <div> <div class=\"lIMUZd\"><div><table class=\"IkMU6e\"><tr><td><a href=\"/url?q=https://engdic.org/fruits-names/&amp;sa=U&amp;ved=2ahUKEwjwk8jgkIH8AhVMcGwGHXJWDr8QqoUBegQIDhAB&amp;usg=AOvVaw0OfTL7Qq1-ZTB68fEXn-nF\"><div class=\"NZWO1b\"><img alt=\"\" class=\"yWs4tf\" src=\"https://encrypted-tbn0.gstatic.com/images?q=tbn:ANd9GcR3BXHTy8--k103DtD5gs_tBqyEh9t5v3aOzFOdNZakQiiT-BNjMgXf2-J2iSg&amp;s\"/></div></a></td></tr><tr><td><a href=\"/url?q=https://engdic.org/fruits-names/&amp;sa=U&amp;ved=2ahUKEwjwk8jgkIH8AhVMcGwGHXJWDr8Qr4kDegQIDhAC&amp;usg=AOvVaw11EeFK9oSv-02_MEYv8KV-\"><div class=\"jB2rPd\"> <span class=\"qXLe6d x3G5ab\"> <span class=\"fYyStc\">100 Fruits Names with...</span> </span> <span class=\"qXLe6d F9iS2e\"> <span class=\"fYyStc\">engdic.org</span> </span> </div></a></td></tr></table></div></div> </div> </div></td></tr><tr><td align=\"center\" class=\"e3goi\"><div class=\"mnTahd\"> <div> <div class=\"lIMUZd\"><div><table class=\"IkMU6e\"><tr><td><a href=\"/url?q=https://www.vecteezy.com/vector-art/6521988-colorful-simple-fruit-drawing-perfect-for-children-s-illustration-and-teaching&amp;sa=U&amp;ved=2ahUKEwjwk8jgkIH8AhVMcGwGHXJWDr8QqoUBegQICRAB&amp;usg=AOvVaw2T7rVdVInJLyEm2wV0OW2-\"><div class=\"NZWO1b\"><img alt=\"\" class=\"yWs4tf\" src=\"https://encrypted-tbn0.gstatic.com/images?q=tbn:ANd9GcTTifgqC7e4QA3srbe0ZIbjQ7N52i8GGxDHtjtBNzjZoMlbk1PxY-uYTaAYMA&amp;s\"/></div></a></td></tr><tr><td><a href=\"/url?q=https://www.vecteezy.com/vector-art/6521988-colorful-simple-fruit-drawing-perfect-for-children-s-illustration-and-teaching&amp;sa=U&amp;ved=2ahUKEwjwk8jgkIH8AhVMcGwGHXJWDr8Qr4kDegQICRAC&amp;usg=AOvVaw2hqHqq5zbENzQtFvRCm3QF\"><div class=\"jB2rPd\"> <span class=\"qXLe6d x3G5ab\"> <span class=\"fYyStc\">Colorful simple fruit...</span> </span> <span class=\"qXLe6d F9iS2e\"> <span class=\"fYyStc\">www.vecteezy.com</span> </span> </div></a></td></tr></table></div></div> </div> </div></td><td align=\"center\" class=\"e3goi\"><div class=\"mnTahd\"> <div> <div class=\"lIMUZd\"><div><table class=\"IkMU6e\"><tr><td><a href=\"/url?q=https://loveenglish.org/tropical-fruits/&amp;sa=U&amp;ved=2ahUKEwjwk8jgkIH8AhVMcGwGHXJWDr8QqoUBegQIDRAB&amp;usg=AOvVaw3BBlID_q2IYXHAqMGRs5fv\"><div class=\"NZWO1b\"><img alt=\"\" class=\"yWs4tf\" src=\"https://encrypted-tbn0.gstatic.com/images?q=tbn:ANd9GcS1ncqBFe4pQnFcgNp-q2oEOaYuWCACNshaTFFnwRABNc8HlLJy4bbZsi_o3g&amp;s\"/></div></a></td></tr><tr><td><a href=\"/url?q=https://loveenglish.org/tropical-fruits/&amp;sa=U&amp;ved=2ahUKEwjwk8jgkIH8AhVMcGwGHXJWDr8Qr4kDegQIDRAC&amp;usg=AOvVaw0ni4nUhtkCCXJhF2opJk8N\"><div class=\"jB2rPd\"> <span class=\"qXLe6d x3G5ab\"> <span class=\"fYyStc\">Tropical Fruits: Top 35...</span> </span> <span class=\"qXLe6d F9iS2e\"> <span class=\"fYyStc\">loveenglish.org</span> </span> </div></a></td></tr></table></div></div> </div> </div></td><td align=\"center\" class=\"e3goi\"><div class=\"mnTahd\"> <div> <div class=\"lIMUZd\"><div><table class=\"IkMU6e\"><tr><td><a href=\"/url?q=https://engdic.org/15-fruit-names-list/&amp;sa=U&amp;ved=2ahUKEwjwk8jgkIH8AhVMcGwGHXJWDr8QqoUBegQIDxAB&amp;usg=AOvVaw30obk1bny3CH2bhAtNRz4c\"><div class=\"NZWO1b\"><img alt=\"\" class=\"yWs4tf\" src=\"https://encrypted-tbn0.gstatic.com/images?q=tbn:ANd9GcSgKPiI1xnPteLv50rBGRkSAEd5v6CrS9LYOXeMAeovx4uF6vfwTQBAdHmwUgE&amp;s\"/></div></a></td></tr><tr><td><a href=\"/url?q=https://engdic.org/15-fruit-names-list/&amp;sa=U&amp;ved=2ahUKEwjwk8jgkIH8AhVMcGwGHXJWDr8Qr4kDegQIDxAC&amp;usg=AOvVaw3fuz_5NAaW2_JdeAPPBTGq\"><div class=\"jB2rPd\"> <span class=\"qXLe6d x3G5ab\"> <span class=\"fYyStc\">15 Fruit Names List with...</span> </span> <span class=\"qXLe6d F9iS2e\"> <span class=\"fYyStc\">engdic.org</span> </span> </div></a></td></tr></table></div></div> </div> </div></td><td align=\"center\" class=\"e3goi\"><div class=\"mnTahd\"> <div> <div class=\"lIMUZd\"><div><table class=\"IkMU6e\"><tr><td><a href=\"/url?q=https://www.freepik.com/free-photos-vectors/fruit-illustration&amp;sa=U&amp;ved=2ahUKEwjwk8jgkIH8AhVMcGwGHXJWDr8QqoUBegQIChAB&amp;usg=AOvVaw2IvF3E-DVBvf-KezhYNgfg\"><div class=\"NZWO1b\"><img alt=\"\" class=\"yWs4tf\" src=\"https://encrypted-tbn0.gstatic.com/images?q=tbn:ANd9GcSlazbDAoPrB4C8C5qk-nKybT5P4EuyrsQK-qcTDUkct_DoM9f1t_QbyLtR8sg&amp;s\"/></div></a></td></tr><tr><td><a href=\"/url?q=https://www.freepik.com/free-photos-vectors/fruit-illustration&amp;sa=U&amp;ved=2ahUKEwjwk8jgkIH8AhVMcGwGHXJWDr8Qr4kDegQIChAC&amp;usg=AOvVaw0H2lvHWa4p0OgHywniZ7qn\"><div class=\"jB2rPd\"> <span class=\"qXLe6d x3G5ab\"> <span class=\"fYyStc\">Fruit illustration Images |...</span> </span> <span class=\"qXLe6d F9iS2e\"> <span class=\"fYyStc\">www.freepik.com</span> </span> </div></a></td></tr></table></div></div> </div> </div></td></tr><tr><td align=\"center\" class=\"e3goi\"><div class=\"mnTahd\"> <div> <div class=\"lIMUZd\"><div><table class=\"IkMU6e\"><tr><td><a href=\"/url?q=https://economictimes.indiatimes.com/news/how-to/10-fruits-diabetics-should-eat-and-why-that-are-important-for-you/articleshow/86506774.cms&amp;sa=U&amp;ved=2ahUKEwjwk8jgkIH8AhVMcGwGHXJWDr8QqoUBegQIBRAB&amp;usg=AOvVaw0F0jNLRn_iJ1ZFOlRpnf7d\"><div class=\"NZWO1b\"><img alt=\"\" class=\"yWs4tf\" src=\"https://encrypted-tbn0.gstatic.com/images?q=tbn:ANd9GcSQe6HF-cxY8RCJHWFrBhV04MCyPjfAZAg8sEpffwNrqVAIt6Sm4AZB4ywmC3w&amp;s\"/></div></a></td></tr><tr><td><a href=\"/url?q=https://economictimes.indiatimes.com/news/how-to/10-fruits-diabetics-should-eat-and-why-that-are-important-for-you/articleshow/86506774.cms&amp;sa=U&amp;ved=2ahUKEwjwk8jgkIH8AhVMcGwGHXJWDr8Qr4kDegQIBRAC&amp;usg=AOvVaw0Vo5XTLNsFsftF2JtaWMiw\"><div class=\"jB2rPd\"> <span class=\"qXLe6d x3G5ab\"> <span class=\"fYyStc\">diabetic care: 10 fruits...</span> </span> <span class=\"qXLe6d F9iS2e\"> <span class=\"fYyStc\">economictimes.indiatimes.co...</span> </span> </div></a></td></tr></table></div></div> </div> </div></td><td align=\"center\" class=\"e3goi\"><div class=\"mnTahd\"> <div> <div class=\"lIMUZd\"><div><table class=\"IkMU6e\"><tr><td><a href=\"/url?q=https://www.freepik.com/free-photos-vectors/fruits-drawing&amp;sa=U&amp;ved=2ahUKEwjwk8jgkIH8AhVMcGwGHXJWDr8QqoUBegQICBAB&amp;usg=AOvVaw2K185OxpjzTXdrhcIDtUVn\"><div class=\"NZWO1b\"><img alt=\"\" class=\"yWs4tf\" src=\"https://encrypted-tbn0.gstatic.com/images?q=tbn:ANd9GcR_DoiKy5YEjDyLIcRtHX0oiWr-94o51Dzr6DhTa8GjiP8KyuE-nrxJDR5PTAg&amp;s\"/></div></a></td></tr><tr><td><a href=\"/url?q=https://www.freepik.com/free-photos-vectors/fruits-drawing&amp;sa=U&amp;ved=2ahUKEwjwk8jgkIH8AhVMcGwGHXJWDr8Qr4kDegQICBAC&amp;usg=AOvVaw0uL-VHnjhSDc58WKijeh4p\"><div class=\"jB2rPd\"> <span class=\"qXLe6d x3G5ab\"> <span class=\"fYyStc\">Fruits drawing Images |...</span> </span> <span class=\"qXLe6d F9iS2e\"> <span class=\"fYyStc\">www.freepik.com</span> </span> </div></a></td></tr></table></div></div> </div> </div></td><td align=\"center\" class=\"e3goi\"><div class=\"mnTahd\"> <div> <div class=\"lIMUZd\"><div><table class=\"IkMU6e\"><tr><td><a href=\"/url?q=https://www.snexplores.org/article/scientists-say-fruit&amp;sa=U&amp;ved=2ahUKEwjwk8jgkIH8AhVMcGwGHXJWDr8QqoUBegQIAhAB&amp;usg=AOvVaw3HI4xmYG6xy8O_7VMdZo7l\"><div class=\"NZWO1b\"><img alt=\"\" class=\"yWs4tf\" src=\"https://encrypted-tbn0.gstatic.com/images?q=tbn:ANd9GcT6EwBQOYJe3mh0O0g7JujhTxI21dbDWUUbd6HMXOOB_r2wUreCmdTm7eK7piY&amp;s\"/></div></a></td></tr><tr><td><a href=\"/url?q=https://www.snexplores.org/article/scientists-say-fruit&amp;sa=U&amp;ved=2ahUKEwjwk8jgkIH8AhVMcGwGHXJWDr8Qr4kDegQIAhAC&amp;usg=AOvVaw0NUD7KZl5M3DlUrnACRc13\"><div class=\"jB2rPd\"> <span class=\"qXLe6d x3G5ab\"> <span class=\"fYyStc\">Scientists Say: Fruit</span> </span> <span class=\"qXLe6d F9iS2e\"> <span class=\"fYyStc\">www.snexplores.org</span> </span> </div></a></td></tr></table></div></div> </div> </div></td><td align=\"center\" class=\"e3goi\"><div class=\"mnTahd\"> <div> <div class=\"lIMUZd\"><div><table class=\"IkMU6e\"><tr><td><a href=\"/url?q=https://byjus.com/english/fruits-names/&amp;sa=U&amp;ved=2ahUKEwjwk8jgkIH8AhVMcGwGHXJWDr8QqoUBegQIBBAB&amp;usg=AOvVaw2aJne0r0WZUCd3F5bZlv2D\"><div class=\"NZWO1b\"><img alt=\"\" class=\"yWs4tf\" src=\"https://encrypted-tbn0.gstatic.com/images?q=tbn:ANd9GcTOmBaVSRKnhVrbqiHUJItPswgMFuUrnbiOABjoI8WOWnFHzi1d-wlvuMORAm0&amp;s\"/></div></a></td></tr><tr><td><a href=\"/url?q=https://byjus.com/english/fruits-names/&amp;sa=U&amp;ved=2ahUKEwjwk8jgkIH8AhVMcGwGHXJWDr8Qr4kDegQIBBAC&amp;usg=AOvVaw2UL8a4J165oRc2Mpp5NMlf\"><div class=\"jB2rPd\"> <span class=\"qXLe6d x3G5ab\"> <span class=\"fYyStc\">Fruit Names in English -...</span> </span> <span class=\"qXLe6d F9iS2e\"> <span class=\"fYyStc\">byjus.com</span> </span> </div></a></td></tr></table></div></div> </div> </div></td></tr><tr><td align=\"center\" class=\"e3goi\"><div class=\"mnTahd\"> <div> <div class=\"lIMUZd\"><div><table class=\"IkMU6e\"><tr><td><a href=\"/url?q=https://health.clevelandclinic.org/fruits-that-deserve-the-buzz-your-dietitians-picks/&amp;sa=U&amp;ved=2ahUKEwjwk8jgkIH8AhVMcGwGHXJWDr8QqoUBegQIBhAB&amp;usg=AOvVaw37X8NJs_43XzhGco6fZz7S\"><div class=\"NZWO1b\"><img alt=\"\" class=\"yWs4tf\" src=\"https://encrypted-tbn0.gstatic.com/images?q=tbn:ANd9GcQ1R9-KvjRE_fGDSdhaUXh8hW-Vr7z4yq0vfsYtYjofbylexEjvmoNBgYl2yHE&amp;s\"/></div></a></td></tr><tr><td><a href=\"/url?q=https://health.clevelandclinic.org/fruits-that-deserve-the-buzz-your-dietitians-picks/&amp;sa=U&amp;ved=2ahUKEwjwk8jgkIH8AhVMcGwGHXJWDr8Qr4kDegQIBhAC&amp;usg=AOvVaw082MSIN5HG2v3YcutuhO4V\"><div class=\"jB2rPd\"> <span class=\"qXLe6d x3G5ab\"> <span class=\"fYyStc\">Best Fruits to Eat: A...</span> </span> <span class=\"qXLe6d F9iS2e\"> <span class=\"fYyStc\">health.clevelandclinic.org</span> </span> </div></a></td></tr></table></div></div> </div> </div></td><td align=\"center\" class=\"e3goi\"><div class=\"mnTahd\"> <div> <div class=\"lIMUZd\"><div><table class=\"IkMU6e\"><tr><td><a href=\"/url?q=https://www.libertyprim.com/en/lexique-familles/103/apple-lexique-des-fruits.htm&amp;sa=U&amp;ved=2ahUKEwjwk8jgkIH8AhVMcGwGHXJWDr8QqoUBegQIBxAB&amp;usg=AOvVaw1i-S44pGcrx9ijEnaKTGcm\"><div class=\"NZWO1b\"><img alt=\"\" class=\"yWs4tf\" src=\"https://encrypted-tbn0.gstatic.com/images?q=tbn:ANd9GcToLZpHvJGmHskP2fDC3q9vH8mtcgApC58xd68N0rnMITtUZ23SjYZzcUssqWo&amp;s\"/></div></a></td></tr><tr><td><a href=\"/url?q=https://www.libertyprim.com/en/lexique-familles/103/apple-lexique-des-fruits.htm&amp;sa=U&amp;ved=2ahUKEwjwk8jgkIH8AhVMcGwGHXJWDr8Qr4kDegQIBxAC&amp;usg=AOvVaw0MMUKtd3yLK0QGf2dqVGbZ\"><div class=\"jB2rPd\"> <span class=\"qXLe6d x3G5ab\"> <span class=\"fYyStc\">Apple Fruits, varieties,...</span> </span> <span class=\"qXLe6d F9iS2e\"> <span class=\"fYyStc\">www.libertyprim.com</span> </span> </div></a></td></tr></table></div></div> </div> </div></td><td align=\"center\" class=\"e3goi\"><div class=\"mnTahd\"> <div> <div class=\"lIMUZd\"><div><table class=\"IkMU6e\"><tr><td><a href=\"/url?q=https://www.goodhousekeeping.com/health/diet-nutrition/g28511617/healthiest-fruits/&amp;sa=U&amp;ved=2ahUKEwjwk8jgkIH8AhVMcGwGHXJWDr8QqoUBegQIAxAB&amp;usg=AOvVaw3uhG5q43Sa5q6F4CllMfNt\"><div class=\"NZWO1b\"><img alt=\"\" class=\"yWs4tf\" src=\"https://encrypted-tbn0.gstatic.com/images?q=tbn:ANd9GcSNNS17aGBNA7U-PS2Z3l7stkhG1hswIW5eiB6jl462S7WI3jLq84ICem_kGjc&amp;s\"/></div></a></td></tr><tr><td><a href=\"/url?q=https://www.goodhousekeeping.com/health/diet-nutrition/g28511617/healthiest-fruits/&amp;sa=U&amp;ved=2ahUKEwjwk8jgkIH8AhVMcGwGHXJWDr8Qr4kDegQIAxAC&amp;usg=AOvVaw3G0OfCKWBv7xIgdSIy0J3w\"><div class=\"jB2rPd\"> <span class=\"qXLe6d x3G5ab\"> <span class=\"fYyStc\">25 Healthiest Fruits You...</span> </span> <span class=\"qXLe6d F9iS2e\"> <span class=\"fYyStc\">www.goodhousekeeping.com</span> </span> </div></a></td></tr></table></div></div> </div> </div></td><td align=\"center\" class=\"e3goi\"><div class=\"mnTahd\"> <div> <div class=\"lIMUZd\"><div><table class=\"IkMU6e\"><tr><td><a href=\"/url?q=https://www.everydayhealth.com/diet-nutrition-pictures/the-healthiest-power-fruits-next-door.aspx&amp;sa=U&amp;ved=2ahUKEwjwk8jgkIH8AhVMcGwGHXJWDr8QqoUBegQIARAB&amp;usg=AOvVaw30jZYNXDZ_XPawKoGMOSu7\"><div class=\"NZWO1b\"><img alt=\"\" class=\"yWs4tf\" src=\"https://encrypted-tbn0.gstatic.com/images?q=tbn:ANd9GcT5zkjQMFoVus5fpDNclpoRlDj0QYa8Q7DqTvRjHblkEqKJLx6qf2Zy8AoO6g&amp;s\"/></div></a></td></tr><tr><td><a href=\"/url?q=https://www.everydayhealth.com/diet-nutrition-pictures/the-healthiest-power-fruits-next-door.aspx&amp;sa=U&amp;ved=2ahUKEwjwk8jgkIH8AhVMcGwGHXJWDr8Qr4kDegQIARAC&amp;usg=AOvVaw2hnYWPYp2sYvuJ1DnojiTa\"><div class=\"jB2rPd\"> <span class=\"qXLe6d x3G5ab\"> <span class=\"fYyStc\">10 Boring Fruits With...</span> </span> <span class=\"qXLe6d F9iS2e\"> <span class=\"fYyStc\">www.everydayhealth.com</span> </span> </div></a></td></tr></table></div></div> </div> </div></td></tr></table></div><table class=\"uZgmoc\"><tbody><td><a class=\"frGj1b\" href=\"/search?q=Fruits&amp;biw=1036&amp;bih=666&amp;ie=UTF-8&amp;tbm=isch&amp;ei=E_adY7C-GszgseMP8qy5-As&amp;start=20&amp;sa=N\">Next &gt;</a></td></tbody></table><br/><div class=\"TuS8Ad\" data-ved=\"0ahUKEwjwk8jgkIH8AhVMcGwGHXJWDr8QpyoIUg\"><style>.VYM29{font-weight:bold}</style><div align=\"center\" class=\"HddGcc\"><span class=\"VYM29\">Gandhi Nagar Airport Area, Deolali Gaon, Nashik, Maharashtra</span><span> - </span><span>From your IP address</span><span> - </span><a href=\"/url?q=https://support.google.com/websearch%3Fp%3Dws_settings_location%26hl%3Den-IN&amp;sa=U&amp;ved=0ahUKEwjwk8jgkIH8AhVMcGwGHXJWDr8Qty4IUw&amp;usg=AOvVaw16Q1kR9sV2lGcSFXbyINt_\">Learn more</a></div><div align=\"center\"><a class=\"rEM8G\" href=\"/url?q=https://accounts.google.com/ServiceLogin%3Fcontinue%3Dhttps://www.google.com/search%253Fq%253DFruits%2526tbm%253Disch%2526source%253Dhp%2526biw%253D1036%2526bih%253D666%2526ei%253D3eudY5avNYqomAXp86PwBw%2526iflsig%253DAJiK0e8AAAAAY5357azUt5xpQbb3LoHFR1dzpa2viiOl%2526ved%253D0ahUKEwjWkamCh4H8AhUKFKYKHen5CH4Q4dUDCAc%2526oq%253DFruits%2526gs_lcp%253DCgNpbWcQDDIICAAQgAQQsQMyCAgAEIAEELEDMggIABCABBCxAzIICAAQgAQQsQMyCAgAEIAEELEDMggIABCABBCxAzIICAAQgAQQsQMyCAgAEIAEELEDMggIABCABBCxAzIFCAAQgAQ6CQgAEIAEEAoQGFAAWPvsA2DV1QloAHAAeASAAaUBiAHHC5IBBDEuMTGYAQCgAQGqAQtnd3Mtd2l6LWltZ7ABAA%2526sclient%253Dimg%26hl%3Den&amp;sa=U&amp;ved=0ahUKEwjwk8jgkIH8AhVMcGwGHXJWDr8Qxs8CCFQ&amp;usg=AOvVaw1IWTHIzw8iMxT0IgEv10LW\">Sign in</a></div><div><table class=\"bookcf\"><tbody class=\"InWNIe\"><tr><td><a class=\"rEM8G\" href=\"https://www.google.com/preferences?hl=en&amp;sa=X&amp;ved=0ahUKEwjwk8jgkIH8AhVMcGwGHXJWDr8Qv5YECFU\">Settings</a></td><td><a class=\"rEM8G\" href=\"https://www.google.com/intl/en_in/policies/privacy/\">Privacy</a></td><td><a class=\"rEM8G\" href=\"https://www.google.com/intl/en_in/policies/terms/\">Terms</a></td></tr></tbody></table></div></div><div> </div></body></html>"
      ]
     },
     "execution_count": 32,
     "metadata": {},
     "output_type": "execute_result"
    }
   ],
   "source": [
    "soup = BeautifulSoup(page.content)\n",
    "soup"
   ]
  },
  {
   "cell_type": "code",
   "execution_count": 33,
   "id": "53407d08",
   "metadata": {},
   "outputs": [
    {
     "data": {
      "text/plain": [
       "[]"
      ]
     },
     "execution_count": 33,
     "metadata": {},
     "output_type": "execute_result"
    }
   ],
   "source": [
    "images=[]\n",
    "for i in soup.find_all(\"a\", class_=\"wXeWr islib nfEiy\"):\n",
    "    images.append(i.get('data-src'))\n",
    "images\n"
   ]
  },
  {
   "cell_type": "markdown",
   "id": "68b65d41",
   "metadata": {},
   "source": [
    "# Question 4"
   ]
  },
  {
   "cell_type": "code",
   "execution_count": 34,
   "id": "adba6d80",
   "metadata": {},
   "outputs": [],
   "source": [
    "# Opening the Link\n",
    "driver.get('https://www.flipkart.com/')"
   ]
  },
  {
   "cell_type": "code",
   "execution_count": 35,
   "id": "d50cd6db",
   "metadata": {},
   "outputs": [],
   "source": [
    "# Entering Product\n",
    "\n",
    "Product=driver.find_element(By.XPATH,\"/html/body/div[1]/div/div[1]/div[1]/div[2]/div[2]/form/div/div/input\")\n",
    "Product.send_keys('Smartphone')"
   ]
  },
  {
   "cell_type": "code",
   "execution_count": 36,
   "id": "f130d2bf",
   "metadata": {},
   "outputs": [],
   "source": [
    "search=driver.find_element(By.XPATH,\"/html/body/div[1]/div/div[1]/div[1]/div[2]/div[2]/form/div/button\")\n",
    "search.click()"
   ]
  },
  {
   "cell_type": "code",
   "execution_count": 59,
   "id": "765cd706",
   "metadata": {},
   "outputs": [],
   "source": [
    "Brand_name2=[]\n",
    "RAM_ROM=[]\n",
    "Price_mobile=[]\n",
    "Product_Url=[]"
   ]
  },
  {
   "cell_type": "code",
   "execution_count": 51,
   "id": "60cdcde6",
   "metadata": {},
   "outputs": [
    {
     "data": {
      "text/plain": [
       "['SAMSUNG Galaxy F22 (Denim Blue, 64 GB)',\n",
       " 'REDMI 10 (Midnight Black, 64 GB)',\n",
       " 'REDMI 10 (Caribbean Green, 64 GB)',\n",
       " 'REDMI 9i Sport (Coral Green, 64 GB)',\n",
       " 'POCO C31 (Shadow Gray, 64 GB)',\n",
       " 'POCO M4 Pro (Power Black, 128 GB)',\n",
       " 'POCO M4 Pro (Cool Blue, 64 GB)',\n",
       " 'realme 10 Pro+ 5G (Hyperspace, 128 GB)',\n",
       " 'realme 10 Pro+ 5G (Hyperspace, 128 GB)',\n",
       " 'realme 10 Pro+ 5G (Dark Matter, 128 GB)',\n",
       " 'realme 10 Pro+ 5G (Nebula Blue, 128 GB)',\n",
       " 'realme 10 Pro+ 5G (Dark Matter, 128 GB)',\n",
       " 'POCO M4 Pro (Cool Blue, 128 GB)',\n",
       " 'REDMI 9i Sport (Carbon Black, 64 GB)',\n",
       " 'APPLE iPhone 11 (White, 128 GB)',\n",
       " 'SAMSUNG Galaxy F22 (Denim Blue, 128 GB)',\n",
       " 'POCO C31 (Royal Blue, 64 GB)',\n",
       " 'MOTOROLA e40 (Carbon Gray, 64 GB)',\n",
       " 'POCO M4 Pro (Power Black, 64 GB)',\n",
       " 'MOTOROLA G32 (Mineral Gray, 64 GB)',\n",
       " 'MOTOROLA g52 (Metallic White, 128 GB)',\n",
       " 'POCO C31 (Shadow Gray, 32 GB)',\n",
       " 'OPPO K10 (Blue Flame, 128 GB)',\n",
       " 'REDMI 10 (Pacific Blue, 64 GB)']"
      ]
     },
     "execution_count": 51,
     "metadata": {},
     "output_type": "execute_result"
    }
   ],
   "source": [
    "# Scraping brand name, Smartphone name & colour from the given page\n",
    "Brand=driver.find_elements(By.XPATH,'//div[@class=\"_4rR01T\"]')\n",
    "for i in Brand[0:30]:\n",
    "    brand=i.text\n",
    "    Brand_name2.append(brand)\n",
    "Brand_name2"
   ]
  },
  {
   "cell_type": "code",
   "execution_count": 42,
   "id": "47297d66",
   "metadata": {},
   "outputs": [
    {
     "data": {
      "text/plain": [
       "['4 GB RAM | 64 GB ROM | Expandable Upto 1 TB',\n",
       " '16.26 cm (6.4 inch) HD+ Display',\n",
       " '48MP + 8MP + 2MP + 2MP | 13MP Front Camera',\n",
       " '6000 mAh Lithium-ion Battery',\n",
       " 'MediaTek Helio G80 Processor',\n",
       " '1 Year Warranty Provided by the Manufacturer from Date of Purchase',\n",
       " '4 GB RAM | 64 GB ROM | Expandable Upto 1 TB',\n",
       " '17.02 cm (6.7 inch) HD+ Display',\n",
       " '50MP + 2MP | 5MP Front Camera',\n",
       " '6000 mAh Lithium Polymer Battery',\n",
       " 'Qualcomm Snapdragon 680 Processor',\n",
       " '1 Year Warranty for Phone and 6 Months Warranty for In-Box Accessories',\n",
       " '4 GB RAM | 64 GB ROM | Expandable Upto 1 TB',\n",
       " '17.02 cm (6.7 inch) HD+ Display',\n",
       " '50MP + 2MP | 5MP Front Camera',\n",
       " '6000 mAh Lithium Polymer Battery',\n",
       " 'Qualcomm Snapdragon 680 Processor',\n",
       " '1 Year Warranty for Phone and 6 Months Warranty for In-Box Accessories',\n",
       " '4 GB RAM | 64 GB ROM | Expandable Upto 512 GB',\n",
       " '16.59 cm (6.53 inch) HD+ Display',\n",
       " '13MP Rear Camera | 5MP Front Camera',\n",
       " '5000 mAh Li-Polymer Battery',\n",
       " 'MediaTek Helio G25 Processor',\n",
       " 'Brand Warranty of 1 Year Available for Mobile and 6 Months for Accessories',\n",
       " '4 GB RAM | 64 GB ROM | Expandable Upto 512 GB',\n",
       " '16.59 cm (6.53 inch) HD+ Display',\n",
       " '13MP + 2MP + 2MP | 5MP Front Camera',\n",
       " '5000 mAh Lithium-ion Polymer Battery',\n",
       " 'MediaTek Helio G35 Processor',\n",
       " '1 Year Warranty for Handset, 6 Months for Accessories']"
      ]
     },
     "execution_count": 42,
     "metadata": {},
     "output_type": "execute_result"
    }
   ],
   "source": [
    "# Scraping RAM/ROM/Camera/Battery/Display from the given page\n",
    "RR=driver.find_elements(By.XPATH,'//li[@class=\"rgWa7D\"]')\n",
    "for i in RR[0:30]:\n",
    "    rr=i.text\n",
    "    RAM_ROM.append(rr)\n",
    "RAM_ROM"
   ]
  },
  {
   "cell_type": "code",
   "execution_count": 58,
   "id": "b4705333",
   "metadata": {},
   "outputs": [
    {
     "data": {
      "text/plain": [
       "['₹10,499',\n",
       " '₹9,499',\n",
       " '₹9,499',\n",
       " '₹7,099',\n",
       " '₹7,499',\n",
       " '₹11,999',\n",
       " '₹10,999',\n",
       " '₹25,999',\n",
       " '₹24,999',\n",
       " '₹25,999',\n",
       " '₹24,999',\n",
       " '₹24,999',\n",
       " '₹11,999',\n",
       " '₹7,099',\n",
       " '₹45,999',\n",
       " '₹12,499',\n",
       " '₹7,499',\n",
       " '₹7,999',\n",
       " '₹10,999',\n",
       " '₹9,999',\n",
       " '₹12,999',\n",
       " '₹6,499',\n",
       " '₹13,490',\n",
       " '₹9,499']"
      ]
     },
     "execution_count": 58,
     "metadata": {},
     "output_type": "execute_result"
    }
   ],
   "source": [
    "# Scraping Price from the given page\n",
    "Price1=driver.find_elements(By.XPATH,'//div[@class=\"_30jeq3 _1_WHN1\"]')\n",
    "for i in Price1[0:30]:\n",
    "    p=i.text\n",
    "    Price_mobile.append(p)\n",
    "Price_mobile"
   ]
  },
  {
   "cell_type": "code",
   "execution_count": 66,
   "id": "f949d1b1",
   "metadata": {},
   "outputs": [
    {
     "data": {
      "text/plain": [
       "[0, 0, 0]"
      ]
     },
     "execution_count": 66,
     "metadata": {},
     "output_type": "execute_result"
    }
   ],
   "source": [
    "length=[len(Brand_name2),len(RAM_ROM),len(Price_mobile)]\n",
    "length"
   ]
  },
  {
   "cell_type": "code",
   "execution_count": 62,
   "id": "5d3c3fbc",
   "metadata": {},
   "outputs": [
    {
     "data": {
      "text/html": [
       "<div>\n",
       "<style scoped>\n",
       "    .dataframe tbody tr th:only-of-type {\n",
       "        vertical-align: middle;\n",
       "    }\n",
       "\n",
       "    .dataframe tbody tr th {\n",
       "        vertical-align: top;\n",
       "    }\n",
       "\n",
       "    .dataframe thead th {\n",
       "        text-align: right;\n",
       "    }\n",
       "</style>\n",
       "<table border=\"1\" class=\"dataframe\">\n",
       "  <thead>\n",
       "    <tr style=\"text-align: right;\">\n",
       "      <th></th>\n",
       "      <th>Brand_name</th>\n",
       "      <th>Features</th>\n",
       "      <th>Price</th>\n",
       "    </tr>\n",
       "  </thead>\n",
       "  <tbody>\n",
       "  </tbody>\n",
       "</table>\n",
       "</div>"
      ],
      "text/plain": [
       "Empty DataFrame\n",
       "Columns: [Brand_name, Features, Price]\n",
       "Index: []"
      ]
     },
     "execution_count": 62,
     "metadata": {},
     "output_type": "execute_result"
    }
   ],
   "source": [
    "# Creating the dataframe from above data-\n",
    "df=pd.DataFrame({'Brand_name':Brand_name2,'Features':RAM_ROM, 'Price':Price_mobile})\n",
    "df"
   ]
  },
  {
   "cell_type": "code",
   "execution_count": null,
   "id": "a9814537",
   "metadata": {},
   "outputs": [],
   "source": [
    "//img[@class=\"_396cs4 _3exPp9\"]"
   ]
  },
  {
   "cell_type": "markdown",
   "id": "e5d9a322",
   "metadata": {},
   "source": [
    "# Question 5"
   ]
  },
  {
   "cell_type": "code",
   "execution_count": 2,
   "id": "985311fd",
   "metadata": {},
   "outputs": [],
   "source": [
    "import selenium\n",
    "import pandas as pd\n",
    "from selenium import webdriver\n",
    "import warnings\n",
    "warnings.filterwarnings('ignore')\n",
    "from selenium.common.exceptions import StaleElementReferenceException, NoSuchElementException\n",
    "from selenium.webdriver.common.by import By\n",
    "import time"
   ]
  },
  {
   "cell_type": "code",
   "execution_count": 3,
   "id": "3269f0ab",
   "metadata": {},
   "outputs": [],
   "source": [
    "driver= webdriver.Chrome(r\"C:\\Users\\HP\\Downloads\\chromedriver_win32 (2)\\chromedriver.exe\")"
   ]
  },
  {
   "cell_type": "code",
   "execution_count": 5,
   "id": "6bc653c6",
   "metadata": {},
   "outputs": [],
   "source": [
    "# Opening the Link\n",
    "driver.get('https://www.google.co.in/maps/@16.8391467,74.6520576,14z')"
   ]
  },
  {
   "cell_type": "code",
   "execution_count": 6,
   "id": "c0bcb285",
   "metadata": {},
   "outputs": [
    {
     "name": "stdout",
     "output_type": "stream",
     "text": [
      "Enter any Citypune\n"
     ]
    }
   ],
   "source": [
    "# Entering City\n",
    "\n",
    "city=driver.find_element(By.XPATH,\"/html/body/div[3]/div[9]/div[3]/div[1]/div[1]/div/div[2]/form/input[1]\")\n",
    "city.send_keys(input(\"Enter any City\"))"
   ]
  },
  {
   "cell_type": "code",
   "execution_count": 8,
   "id": "a91e4a74",
   "metadata": {},
   "outputs": [],
   "source": [
    "search=driver.find_element(By.CLASS_NAME,\"pzfvzf\")\n",
    "search.click()"
   ]
  },
  {
   "cell_type": "code",
   "execution_count": 9,
   "id": "96b472ac",
   "metadata": {},
   "outputs": [
    {
     "name": "stdout",
     "output_type": "stream",
     "text": [
      "URL Extracted: https://www.google.co.in/maps/place/Shaniwar+Wada/@18.5202134,73.8551603,11z/data=!4m13!1m7!3m6!1s0x3bc2bf2e67461101:0x828d43bf9d9ee343!2sPune,+Maharashtra!3b1!8m2!3d18.5204303!4d73.8567437!3m4!1s0x3bc2c065144d8edf:0x3703b8095866c54b!8m2!3d18.5194647!4d73.8553175\n"
     ]
    },
    {
     "ename": "NameError",
     "evalue": "name 're' is not defined",
     "output_type": "error",
     "traceback": [
      "\u001b[1;31m---------------------------------------------------------------------------\u001b[0m",
      "\u001b[1;31mNameError\u001b[0m                                 Traceback (most recent call last)",
      "Input \u001b[1;32mIn [9]\u001b[0m, in \u001b[0;36m<cell line: 4>\u001b[1;34m()\u001b[0m\n\u001b[0;32m      2\u001b[0m url_string\u001b[38;5;241m=\u001b[39mdriver\u001b[38;5;241m.\u001b[39mcurrent_url\n\u001b[0;32m      3\u001b[0m \u001b[38;5;28mprint\u001b[39m(\u001b[38;5;124m'\u001b[39m\u001b[38;5;124mURL Extracted:\u001b[39m\u001b[38;5;124m'\u001b[39m, url_string)\n\u001b[1;32m----> 4\u001b[0m lat_lng\u001b[38;5;241m=\u001b[39m\u001b[43mre\u001b[49m\u001b[38;5;241m.\u001b[39mfindall(\u001b[38;5;124mr\u001b[39m\u001b[38;5;124m'\u001b[39m\u001b[38;5;124m@(.*)data\u001b[39m\u001b[38;5;124m'\u001b[39m, url_string )\n",
      "\u001b[1;31mNameError\u001b[0m: name 're' is not defined"
     ]
    }
   ],
   "source": [
    "url_string=[]\n",
    "url_string=driver.current_url\n",
    "print('URL Extracted:', url_string)\n",
    "lat_lng=re.findall(r'@(.*)data', url_string )"
   ]
  },
  {
   "cell_type": "markdown",
   "id": "0c663d87",
   "metadata": {},
   "source": [
    "# Question 7"
   ]
  },
  {
   "cell_type": "code",
   "execution_count": null,
   "id": "43e559a7",
   "metadata": {},
   "outputs": [],
   "source": [
    "import selenium\n",
    "import pandas as pd\n",
    "from selenium import webdriver\n",
    "import warnings\n",
    "warnings.filterwarnings('ignore')\n",
    "from selenium.common.exceptions import StaleElementReferenceException, NoSuchElementException\n",
    "from selenium.webdriver.common.by import By\n",
    "import time"
   ]
  },
  {
   "cell_type": "code",
   "execution_count": null,
   "id": "69faeb2a",
   "metadata": {},
   "outputs": [],
   "source": [
    "driver= webdriver.Chrome(r\"C:\\Users\\HP\\Downloads\\chromedriver_win32 (2)\\chromedriver.exe\")"
   ]
  },
  {
   "cell_type": "code",
   "execution_count": 10,
   "id": "987ad45a",
   "metadata": {},
   "outputs": [],
   "source": [
    "# Opening the Link\n",
    "driver.get('https://www.digit.in/')"
   ]
  },
  {
   "cell_type": "code",
   "execution_count": 17,
   "id": "69667a90",
   "metadata": {},
   "outputs": [],
   "source": [
    "Name=[]\n",
    "Features=[]\n",
    "Price=[]"
   ]
  },
  {
   "cell_type": "code",
   "execution_count": 19,
   "id": "ba7c0625",
   "metadata": {},
   "outputs": [
    {
     "data": {
      "text/plain": [
       "['1.\\nMSI Titan GT77-12UHS',\n",
       " '2.\\nAlienware X17 R2',\n",
       " '3.\\nAcer Predator Triton 500 SE PT516-52s',\n",
       " '4.\\nOmen By HP (16-B1371TX)',\n",
       " '5.\\nAcer Predator Helios 300 AN515-45',\n",
       " '6.\\nMSI Delta 15 (A5EFK-083IN)',\n",
       " '7.\\nOmen By HP (16-C0141AX)',\n",
       " '8.\\nLenovo Legion 5i Pro (82RF00MGIN)',\n",
       " '9.\\nAlienware M15 R5 Ryzen Edition Icc-C780001win',\n",
       " '10.\\nLenovo Slim 7 Gen 6 (82K8002JIN)']"
      ]
     },
     "execution_count": 19,
     "metadata": {},
     "output_type": "execute_result"
    }
   ],
   "source": [
    "# Scraping name from the given page\n",
    "name=driver.find_elements(By.XPATH,'//div[@class=\"left_side\"]')\n",
    "for i in name[0:10]:\n",
    "    n=i.text\n",
    "    Name.append(n)\n",
    "Name"
   ]
  },
  {
   "cell_type": "code",
   "execution_count": 20,
   "id": "8f2da9f9",
   "metadata": {},
   "outputs": [
    {
     "data": {
      "text/plain": [
       "['Windows 11 Home OS',\n",
       " '17.3\" (3840 x 2160) Display',\n",
       " '12th Gen Intel Core i9-12900HX | NA Processor',\n",
       " '2 TB SSD/64 GB DDR5 Memory',\n",
       " 'Windows 11 Home OS',\n",
       " '17.3\" (1920 x 1080) Display',\n",
       " '12th Gen Intel Core i9-12900H | 5 GHz Processor',\n",
       " '1 TB SSD/32 GB DDR5 Memory',\n",
       " 'Windows 11 OS',\n",
       " '16\" (2560 x 1600) Display',\n",
       " 'Windows 11 Home OS',\n",
       " '17.3\" (3840 x 2160) Display',\n",
       " '12th Gen Intel Core i9-12900HX | NA Processor',\n",
       " '2 TB SSD/64 GB DDR5 Memory',\n",
       " 'Windows 11 Home OS',\n",
       " '17.3\" (1920 x 1080) Display',\n",
       " '12th Gen Intel Core i9-12900H | 5 GHz Processor',\n",
       " '1 TB SSD/32 GB DDR5 Memory',\n",
       " 'Windows 11 OS',\n",
       " '16\" (2560 x 1600) Display']"
      ]
     },
     "execution_count": 20,
     "metadata": {},
     "output_type": "execute_result"
    }
   ],
   "source": [
    "# Scraping Features system from the given page\n",
    "features=driver.find_elements(By.XPATH,'//div[@class=\"Wrap-pop\"]')\n",
    "for i in features[0:10]:\n",
    "    os=i.text\n",
    "    Features.append(os)\n",
    "Features"
   ]
  },
  {
   "cell_type": "code",
   "execution_count": 22,
   "id": "6638a062",
   "metadata": {},
   "outputs": [
    {
     "data": {
      "text/plain": [
       "['₹ 389,990\\nBUY NOW',\n",
       " '₹ 229,990\\nBUY NOW',\n",
       " '₹ 176,490\\nBUY NOW',\n",
       " '₹ 124,990\\nBUY NOW',\n",
       " '₹ 169,990\\nBUY NOW',\n",
       " '₹ 174,000\\nBUY NOW',\n",
       " '₹ 131,990\\nBUY NOW',\n",
       " '₹ 389,990\\nBUY NOW',\n",
       " '₹ 229,990\\nBUY NOW',\n",
       " '₹ 176,490\\nBUY NOW',\n",
       " '₹ 124,990\\nBUY NOW',\n",
       " '₹ 169,990\\nBUY NOW',\n",
       " '₹ 174,000\\nBUY NOW',\n",
       " '₹ 131,990\\nBUY NOW']"
      ]
     },
     "execution_count": 22,
     "metadata": {},
     "output_type": "execute_result"
    }
   ],
   "source": [
    "# Scraping Price details from the given page\n",
    "price=driver.find_elements(By.XPATH,'//div[@class=\"lowest_price\"]')\n",
    "for i in price[0:10]:\n",
    "    p=i.text\n",
    "    Price.append(p)\n",
    "Price"
   ]
  },
  {
   "cell_type": "markdown",
   "id": "3ab92668",
   "metadata": {},
   "source": [
    "# Question 8"
   ]
  },
  {
   "cell_type": "code",
   "execution_count": 4,
   "id": "311a4f6e",
   "metadata": {},
   "outputs": [],
   "source": [
    "# Opening the Link\n",
    "driver.get('https://www.forbes.com/billionaires/')"
   ]
  },
  {
   "cell_type": "code",
   "execution_count": 5,
   "id": "dad605ea",
   "metadata": {},
   "outputs": [],
   "source": [
    "Rank=[]\n",
    "Name=[]\n",
    "Networth=[]\n",
    "age=[]\n",
    "Citizenship=[]\n",
    "source=[]\n",
    "industry=[]"
   ]
  },
  {
   "cell_type": "code",
   "execution_count": 6,
   "id": "c84b68fd",
   "metadata": {},
   "outputs": [
    {
     "data": {
      "text/plain": [
       "['1.',\n",
       " '2.',\n",
       " '3.',\n",
       " '4.',\n",
       " '5.',\n",
       " '6.',\n",
       " '7.',\n",
       " '8.',\n",
       " '9.',\n",
       " '10.',\n",
       " '11.',\n",
       " '12.',\n",
       " '13.',\n",
       " '14.',\n",
       " '15.',\n",
       " '16.',\n",
       " '17.',\n",
       " '18.',\n",
       " '19.',\n",
       " '19.']"
      ]
     },
     "execution_count": 6,
     "metadata": {},
     "output_type": "execute_result"
    }
   ],
   "source": [
    "# Scraping Rank from the given page\n",
    "rank=driver.find_elements(By.XPATH,'//div[@class=\"rank\"]')\n",
    "for i in rank[0:20]:\n",
    "    rnk=i.text\n",
    "    Rank.append(rnk)\n",
    "Rank"
   ]
  },
  {
   "cell_type": "code",
   "execution_count": 7,
   "id": "1be150f3",
   "metadata": {},
   "outputs": [
    {
     "data": {
      "text/plain": [
       "['Elon Musk',\n",
       " 'Jeff Bezos',\n",
       " 'Bernard Arnault & family',\n",
       " 'Bill Gates',\n",
       " 'Warren Buffett',\n",
       " 'Larry Page',\n",
       " 'Sergey Brin',\n",
       " 'Larry Ellison',\n",
       " 'Steve Ballmer',\n",
       " 'Mukesh Ambani',\n",
       " 'Gautam Adani',\n",
       " 'Michael Bloomberg',\n",
       " 'Carlos Slim Helu & family',\n",
       " 'Francoise Bettencourt Meyers & family',\n",
       " 'Mark Zuckerberg',\n",
       " 'Jim Walton',\n",
       " 'Zhong Shanshan',\n",
       " 'Alice Walton',\n",
       " 'Rob Walton',\n",
       " 'Changpeng Zhao']"
      ]
     },
     "execution_count": 7,
     "metadata": {},
     "output_type": "execute_result"
    }
   ],
   "source": [
    "# Scraping name from the given page\n",
    "name=driver.find_elements(By.XPATH,'//div[@class=\"personName\"]')\n",
    "for i in name[0:20]:\n",
    "    n=i.text\n",
    "    Name.append(n)\n",
    "Name"
   ]
  },
  {
   "cell_type": "code",
   "execution_count": 8,
   "id": "aef2089f",
   "metadata": {},
   "outputs": [
    {
     "data": {
      "text/plain": [
       "['$219 B',\n",
       " '$171 B',\n",
       " '$158 B',\n",
       " '$129 B',\n",
       " '$118 B',\n",
       " '$111 B',\n",
       " '$107 B',\n",
       " '$106 B',\n",
       " '$91.4 B',\n",
       " '$90.7 B',\n",
       " '$90 B',\n",
       " '$82 B',\n",
       " '$81.2 B',\n",
       " '$74.8 B',\n",
       " '$67.3 B',\n",
       " '$66.2 B',\n",
       " '$65.7 B',\n",
       " '$65.3 B',\n",
       " '$65 B',\n",
       " '$65 B']"
      ]
     },
     "execution_count": 8,
     "metadata": {},
     "output_type": "execute_result"
    }
   ],
   "source": [
    "# Scraping Networth from the given page\n",
    "networth=driver.find_elements(By.XPATH,'//div[@class=\"netWorth\"]')\n",
    "for i in networth[0:20]:\n",
    "    n=i.text\n",
    "    Networth.append(n)\n",
    "Networth"
   ]
  },
  {
   "cell_type": "code",
   "execution_count": 9,
   "id": "85567f1a",
   "metadata": {},
   "outputs": [
    {
     "data": {
      "text/plain": [
       "['50',\n",
       " '58',\n",
       " '73',\n",
       " '66',\n",
       " '91',\n",
       " '49',\n",
       " '48',\n",
       " '77',\n",
       " '66',\n",
       " '64',\n",
       " '59',\n",
       " '80',\n",
       " '82',\n",
       " '68',\n",
       " '37',\n",
       " '73',\n",
       " '67',\n",
       " '72',\n",
       " '77',\n",
       " '44']"
      ]
     },
     "execution_count": 9,
     "metadata": {},
     "output_type": "execute_result"
    }
   ],
   "source": [
    "# Scraping age from the given page\n",
    "Age=driver.find_elements(By.XPATH,'//div[@class=\"age\"]')\n",
    "for i in Age[0:20]:\n",
    "    a=i.text\n",
    "    age.append(a)\n",
    "age"
   ]
  },
  {
   "cell_type": "code",
   "execution_count": 10,
   "id": "fbd96b51",
   "metadata": {},
   "outputs": [
    {
     "data": {
      "text/plain": [
       "['United States',\n",
       " 'United States',\n",
       " 'France',\n",
       " 'United States',\n",
       " 'United States',\n",
       " 'United States',\n",
       " 'United States',\n",
       " 'United States',\n",
       " 'United States',\n",
       " 'India',\n",
       " 'India',\n",
       " 'United States',\n",
       " 'Mexico',\n",
       " 'France',\n",
       " 'United States',\n",
       " 'United States',\n",
       " 'China',\n",
       " 'United States',\n",
       " 'United States',\n",
       " 'Canada']"
      ]
     },
     "execution_count": 10,
     "metadata": {},
     "output_type": "execute_result"
    }
   ],
   "source": [
    "# Scraping Citizenship from the given page\n",
    "citizenship=driver.find_elements(By.XPATH,'//div[@class=\"countryOfCitizenship\"]')\n",
    "for i in citizenship[0:20]:\n",
    "    c=i.text\n",
    "    Citizenship.append(c)\n",
    "Citizenship"
   ]
  },
  {
   "cell_type": "code",
   "execution_count": 11,
   "id": "e9025be4",
   "metadata": {},
   "outputs": [
    {
     "data": {
      "text/plain": [
       "['Tesla, SpaceX',\n",
       " 'Amazon',\n",
       " 'LVMH',\n",
       " 'Microsoft',\n",
       " 'Berkshire Hathaway',\n",
       " 'Google',\n",
       " 'Google',\n",
       " 'software',\n",
       " 'Microsoft',\n",
       " 'diversified',\n",
       " 'infrastructure, commodities',\n",
       " 'Bloomberg LP',\n",
       " 'telecom',\n",
       " \"L'Oréal\",\n",
       " 'Facebook',\n",
       " 'Walmart',\n",
       " 'beverages, pharmaceuticals',\n",
       " 'Walmart',\n",
       " 'Walmart',\n",
       " 'cryptocurrency exchange']"
      ]
     },
     "execution_count": 11,
     "metadata": {},
     "output_type": "execute_result"
    }
   ],
   "source": [
    "# Scraping source from the given page\n",
    "Source=driver.find_elements(By.XPATH,'//div[@class=\"source\"]')\n",
    "for i in Source[0:20]:\n",
    "    s=i.text\n",
    "    source.append(s)\n",
    "source"
   ]
  },
  {
   "cell_type": "code",
   "execution_count": 12,
   "id": "6261f394",
   "metadata": {},
   "outputs": [
    {
     "data": {
      "text/plain": [
       "['Automotive',\n",
       " 'Technology',\n",
       " 'Fashion & Retail',\n",
       " 'Technology',\n",
       " 'Finance & Investments',\n",
       " 'Technology',\n",
       " 'Technology',\n",
       " 'Technology',\n",
       " 'Technology',\n",
       " 'Diversified']"
      ]
     },
     "execution_count": 12,
     "metadata": {},
     "output_type": "execute_result"
    }
   ],
   "source": [
    "# Scraping industry from the given page\n",
    "Industry=driver.find_elements(By.XPATH,'//div[@class=\"category\"]')\n",
    "for i in Industry[0:10]:\n",
    "    ind=i.text\n",
    "    industry.append(ind)\n",
    "industry"
   ]
  },
  {
   "cell_type": "markdown",
   "id": "b3664b4b",
   "metadata": {},
   "source": [
    "# Question 9"
   ]
  },
  {
   "cell_type": "code",
   "execution_count": 4,
   "id": "4234ab94",
   "metadata": {},
   "outputs": [],
   "source": [
    "# Opening the Link\n",
    "driver.get('https://www.youtube.com/')"
   ]
  },
  {
   "cell_type": "code",
   "execution_count": 9,
   "id": "c68dca53",
   "metadata": {},
   "outputs": [
    {
     "data": {
      "text/plain": [
       "['',\n",
       " '',\n",
       " '',\n",
       " '',\n",
       " '',\n",
       " '',\n",
       " '',\n",
       " '',\n",
       " '',\n",
       " 'Click here to subscribe to Sony LIV Channel: ',\n",
       " ' \\nClick here to watch all highlights: ',\n",
       " '',\n",
       " '',\n",
       " '',\n",
       " '',\n",
       " '',\n",
       " '',\n",
       " '',\n",
       " '',\n",
       " '449',\n",
       " 'Comments',\n",
       " 'Aussie commentators ',\n",
       " \"It's a treat of eye to watch Australian bowlers bowling \",\n",
       " ' , especially starc ...',\n",
       " 'Boxing Day + Tribute for Warnie + Warner 100th Test + Aussie Domination ',\n",
       " '. Great Spectacle at MCG. Mighty Aussies for a Reason. Well Played ',\n",
       " 'Green played magnificent and shows the beauty of test cricket ',\n",
       " 'Marco bats Long making Crucial contribution ',\n",
       " '. Solid defence and Great timing. Impressive right from Debut ',\n",
       " '. Well Played  ',\n",
       " \"After 17.5 cr in IPL action..now it's time for test fifer \",\n",
       " ' ',\n",
       " '',\n",
       " 'Cameroon Green ',\n",
       " 'Cameron green having a talent like Hardik Pandya ',\n",
       " '️',\n",
       " '️',\n",
       " 'Green is an extremely talented player and congrats to him for taking fifer for the first time in test cricket. ',\n",
       " 'But I would appreciate Jansen and Kyle’s batting effort and helped South Africa to reach to more than 150 runs. ',\n",
       " 'Warner is timing the ball well and now will be Unstoppable in his 100th Test ',\n",
       " '. Warning for all SA Bowlers. Waiting for his Century Moment. Come on ',\n",
       " 'What a crowd in test match ',\n",
       " '.',\n",
       " \"Who is here after reading Rohit's player Camron Green \",\n",
       " '🇮🇳',\n",
       " \"As a MI fan feeling happy for Green's performance and am sure he is perfect allrounder in place of Pollard \",\n",
       " 'Cameron Green proved that he is good bowler too ',\n",
       " '️',\n",
       " 'Green',\n",
       " ' MI ',\n",
       " 'Look at thier Crowds ',\n",
       " '',\n",
       " 'Amazing ',\n",
       " 'Australia is going to win the WORLD TEst Chompionship next year. They are way ahead of many teams. Aus the great team ',\n",
       " ' of cricket ',\n",
       " '️',\n",
       " 'Imagine How India won the Aussies clash in Aus. Hatts of',\n",
       " 'Commentator just add spice in matches ..amazing ',\n",
       " 'WINNING RUNS ON DIWALI ',\n",
       " '',\n",
       " 'WINNING RUNS ON CHRISTMAS ',\n",
       " '',\n",
       " ' Ravichandran Ashvin is  MAN OF  FESTIVAL',\n",
       " 'Cameron Green ',\n",
       " ' a wonderful all-rounder and set to blast IPL',\n",
       " 'Labuschgne wow what a fielding ',\n",
       " 'What a Greeny day that was',\n",
       " '',\n",
       " 'Amazing by Aussies!',\n",
       " '',\n",
       " 'Btw congratulations to Warnie',\n",
       " 'Best Commentary Panel in the World ',\n",
       " '',\n",
       " 'Fox Cricket ',\n",
       " 'who would like to see same battle during Australia tour of India ',\n",
       " 'In the test match also there are huge crowd ',\n",
       " \"I am coming here to see Green's profermanc appreciate it that he played today \",\n",
       " '',\n",
       " \"Bcz i am a MI fan and i realy happy to see Green's profermanc\",\n",
       " 'Easy 3-0 to AUS ',\n",
       " '',\n",
       " '',\n",
       " 'What I said before the series ',\n",
       " 'Wow great matches Team Australia and Sauth Africa all the best and keep it up 🇮🇳🇮🇳',\n",
       " '️',\n",
       " '️',\n",
       " '️',\n",
       " ' ',\n",
       " '',\n",
       " 'Starc is the no 1 bowler in the world I like his bowling a lot and the line and speed he generates is awesome. He has not given his name for the IPL as he wants to play for his country ']"
      ]
     },
     "execution_count": 9,
     "metadata": {},
     "output_type": "execute_result"
    }
   ],
   "source": [
    "comments=[]\n",
    "# Scraping industry from the given page\n",
    "Comments=driver.find_elements(By.XPATH,'//span[@class=\"style-scope yt-formatted-string\"]')\n",
    "for i in Comments[0:500]:\n",
    "    comm=i.text\n",
    "    comments.append(comm)\n",
    "comments"
   ]
  },
  {
   "cell_type": "markdown",
   "id": "819c3046",
   "metadata": {},
   "source": [
    "# Question 10"
   ]
  },
  {
   "cell_type": "code",
   "execution_count": 1,
   "id": "bf6a658a",
   "metadata": {},
   "outputs": [],
   "source": [
    "import selenium\n",
    "import pandas as pd\n",
    "from selenium import webdriver\n",
    "import warnings\n",
    "warnings.filterwarnings('ignore')\n",
    "from selenium.common.exceptions import StaleElementReferenceException, NoSuchElementException\n",
    "from selenium.webdriver.common.by import By\n",
    "import time"
   ]
  },
  {
   "cell_type": "code",
   "execution_count": 2,
   "id": "f59ffaa6",
   "metadata": {},
   "outputs": [],
   "source": [
    "driver= webdriver.Chrome(r\"C:\\Users\\HP\\Downloads\\chromedriver_win32 (2)\\chromedriver.exe\")"
   ]
  },
  {
   "cell_type": "code",
   "execution_count": 3,
   "id": "2f21f596",
   "metadata": {},
   "outputs": [],
   "source": [
    "# Opening the Link\n",
    "driver.get('https://www.hostelworld.com/')"
   ]
  },
  {
   "cell_type": "code",
   "execution_count": 5,
   "id": "c261552a",
   "metadata": {},
   "outputs": [],
   "source": [
    "# Entering Location\n",
    "\n",
    "Product=driver.find_element(By.XPATH,\"/html/body/div[3]/div/div/div[2]/div[2]/div/div/div[4]/div/div[2]/div/div[1]/div/div/div/input\")\n",
    "Product.send_keys(\"London\")"
   ]
  },
  {
   "cell_type": "code",
   "execution_count": 8,
   "id": "ada89ed2",
   "metadata": {},
   "outputs": [],
   "source": [
    "search=driver.find_element(By.XPATH,\"/html/body/div[3]/div/div/div[2]/div[2]/div/div/div[4]/div/div[2]/div/div[5]/button\")\n",
    "search.click()"
   ]
  },
  {
   "cell_type": "code",
   "execution_count": 9,
   "id": "06585952",
   "metadata": {},
   "outputs": [
    {
     "data": {
      "text/plain": [
       "[\"Wombat's City Hostel London\",\n",
       " \"St Christopher's Village\",\n",
       " 'Hostel One Notting Hill',\n",
       " 'Urbany Hostel London',\n",
       " 'Generator London',\n",
       " 'Safestay London Elephant & Castle',\n",
       " 'Smart Russell Square Hostel',\n",
       " \"St Christopher's Camden\",\n",
       " 'No.8 Seven Sisters',\n",
       " 'Safestay London Kensington Holland Park',\n",
       " 'NX London Hostel',\n",
       " 'Smart Camden Inn Hostel',\n",
       " 'Destinations Hostels @ The Gallery',\n",
       " 'Phoenix Hostel',\n",
       " \"St Christopher's Hammersmith\",\n",
       " 'London Backpackers',\n",
       " 'Dover Castle Hostel and Bar',\n",
       " 'Smart Hyde Park View Hostel',\n",
       " 'Queen Elizabeth Chelsea',\n",
       " 'Barmy Badger Backpackers',\n",
       " 'Prime Backpackers Angel',\n",
       " 'Saint James Backpackers',\n",
       " \"St Christopher's Greenwich\",\n",
       " \"St Christopher's Shepherds Bush\",\n",
       " 'PubLove @ The Steam Engine, Waterloo',\n",
       " 'Strand Continental',\n",
       " 'PubLove @ The White Ferry, Victoria',\n",
       " 'Book a Bed Hostels',\n",
       " 'Selina Camden',\n",
       " 'Park Villa']"
      ]
     },
     "execution_count": 9,
     "metadata": {},
     "output_type": "execute_result"
    }
   ],
   "source": [
    "Name=[]\n",
    "# Scraping brand name from the given page\n",
    "name=driver.find_elements(By.XPATH,'//h2[@class=\"title title-6\"]')\n",
    "for i in name:\n",
    "    nam=i.text\n",
    "    Name.append(nam)\n",
    "Name"
   ]
  },
  {
   "cell_type": "code",
   "execution_count": 10,
   "id": "8596b2ec",
   "metadata": {},
   "outputs": [
    {
     "data": {
      "text/plain": [
       "['Hostel - 3.6km from city centre',\n",
       " 'Hostel - 1.8km from city centre',\n",
       " 'Hostel - 5.5km from city centre',\n",
       " 'Hostel - 5.4km from city centre',\n",
       " 'Hostel - 3km from city centre',\n",
       " 'Hostel - 1.7km from city centre',\n",
       " 'Hostel - 2.6km from city centre',\n",
       " 'Hostel - 4.3km from city centre',\n",
       " 'Hostel - 9km from city centre',\n",
       " 'Hostel - 5.9km from city centre',\n",
       " 'Hostel - 6.1km from city centre',\n",
       " 'Hostel - 4.4km from city centre',\n",
       " 'Hostel - 1.7km from city centre',\n",
       " 'Hostel - 4.2km from city centre',\n",
       " 'Hostel - 7.5km from city centre',\n",
       " 'Hostel - 11.9km from city centre',\n",
       " 'Hostel - 1.7km from city centre',\n",
       " 'Hostel - 5km from city centre',\n",
       " 'Hostel - 5.7km from city centre',\n",
       " 'Hostel - 5.5km from city centre',\n",
       " 'Hostel - 3.6km from city centre',\n",
       " 'Hostel - 5.5km from city centre',\n",
       " 'Hostel - 7.6km from city centre',\n",
       " 'Hostel - 7km from city centre',\n",
       " 'Hostel - 0.5km from city centre',\n",
       " 'Hostel - 1.3km from city centre',\n",
       " 'Hostel - 2.4km from city centre',\n",
       " 'Hostel - 6.9km from city centre',\n",
       " 'Hostel - 5.5km from city centre',\n",
       " 'Hostel - 6.3km from city centre']"
      ]
     },
     "execution_count": 10,
     "metadata": {},
     "output_type": "execute_result"
    }
   ],
   "source": [
    "Distance=[]\n",
    "# Scraping distance from city centre from the given page\n",
    "distance=driver.find_elements(By.XPATH,'//span[@class=\"description\"]')\n",
    "for i in distance:\n",
    "    dist=i.text\n",
    "    Distance.append(dist)\n",
    "Distance"
   ]
  },
  {
   "cell_type": "code",
   "execution_count": 11,
   "id": "79597ed8",
   "metadata": {},
   "outputs": [
    {
     "data": {
      "text/plain": [
       "['8.9',\n",
       " '8.0',\n",
       " '9.3',\n",
       " '9.2',\n",
       " '7.7',\n",
       " '7.3',\n",
       " '7.0',\n",
       " '8.2',\n",
       " '7.0',\n",
       " '7.6',\n",
       " '8.4',\n",
       " '9.4',\n",
       " '7.0',\n",
       " '7.7',\n",
       " '7.7',\n",
       " '8.4',\n",
       " '8.0',\n",
       " '7.1',\n",
       " '8.9',\n",
       " '8.1',\n",
       " '7.6',\n",
       " '7.3',\n",
       " '7.1',\n",
       " '8.0',\n",
       " '6.9',\n",
       " '7.7',\n",
       " '8.7',\n",
       " '8.4']"
      ]
     },
     "execution_count": 11,
     "metadata": {},
     "output_type": "execute_result"
    }
   ],
   "source": [
    "rating=[]\n",
    "# Scraping distance from city centre from the given page\n",
    "Rating=driver.find_elements(By.XPATH,'//div[@class=\"score orange big\"]')\n",
    "for i in Rating:\n",
    "    rate=i.text\n",
    "    rating.append(rate)\n",
    "rating"
   ]
  },
  {
   "cell_type": "code",
   "execution_count": 13,
   "id": "f4bfa52d",
   "metadata": {},
   "outputs": [
    {
     "data": {
      "text/plain": [
       "['14424 Total Reviews',\n",
       " '11776 Total Reviews',\n",
       " '1646 Total Reviews',\n",
       " '580 Total Reviews',\n",
       " '7297 Total Reviews',\n",
       " '4738 Total Reviews',\n",
       " '9848 Total Reviews',\n",
       " '3934 Total Reviews',\n",
       " '3930 Total Reviews',\n",
       " '1402 Total Reviews',\n",
       " '1427 Total Reviews',\n",
       " '3001 Total Reviews',\n",
       " '94 Total Reviews',\n",
       " '3908 Total Reviews',\n",
       " '4177 Total Reviews',\n",
       " '4390 Total Reviews',\n",
       " '2313 Total Reviews',\n",
       " '4649 Total Reviews',\n",
       " '3374 Total Reviews',\n",
       " '1870 Total Reviews',\n",
       " '698 Total Reviews',\n",
       " '1856 Total Reviews',\n",
       " '3290 Total Reviews',\n",
       " '742 Total Reviews',\n",
       " '349 Total Reviews',\n",
       " '923 Total Reviews',\n",
       " '309 Total Reviews',\n",
       " '1224 Total Reviews',\n",
       " '42 Total Reviews',\n",
       " '883 Total Reviews']"
      ]
     },
     "execution_count": 13,
     "metadata": {},
     "output_type": "execute_result"
    }
   ],
   "source": [
    "total_reviews=[]\n",
    "# Scraping distance from city centre from the given page\n",
    "totalreviews=driver.find_elements(By.XPATH,'//div[@class=\"reviews\"]')\n",
    "for i in totalreviews:\n",
    "    tr=i.text\n",
    "    total_reviews.append(tr)\n",
    "total_reviews"
   ]
  },
  {
   "cell_type": "code",
   "execution_count": 14,
   "id": "64e43d77",
   "metadata": {},
   "outputs": [
    {
     "data": {
      "text/plain": [
       "['No Privates Available',\n",
       " 'No Privates Available',\n",
       " 'No Privates Available',\n",
       " 'No Privates Available',\n",
       " 'No Privates Available',\n",
       " 'No Privates Available',\n",
       " 'No Privates Available',\n",
       " 'No Privates Available',\n",
       " 'No Privates Available',\n",
       " 'No Privates Available',\n",
       " 'No Privates Available',\n",
       " 'No Privates Available',\n",
       " 'No Privates Available',\n",
       " 'No Privates Available',\n",
       " 'No Privates Available',\n",
       " 'No Privates Available',\n",
       " 'No Privates Available',\n",
       " 'No Privates Available',\n",
       " 'No Privates Available',\n",
       " 'No Privates Available',\n",
       " 'No Privates Available',\n",
       " 'No Privates Available',\n",
       " 'No Privates Available']"
      ]
     },
     "execution_count": 14,
     "metadata": {},
     "output_type": "execute_result"
    }
   ],
   "source": [
    "privates_price=[]\n",
    "# Scraping privates from price from the given page\n",
    "privatesprice=driver.find_elements(By.XPATH,'//p[@class=\"no-price body-3 no-privates\"]')\n",
    "for i in privatesprice:\n",
    "    pp=i.text\n",
    "    privates_price.append(pp)\n",
    "privates_price\n"
   ]
  },
  {
   "cell_type": "code",
   "execution_count": 15,
   "id": "c2136023",
   "metadata": {},
   "outputs": [
    {
     "data": {
      "text/plain": [
       "['Rs5085.5 Rs4068',\n",
       " 'Rs1946.52 Rs1752',\n",
       " 'Rs16089',\n",
       " 'Rs5050',\n",
       " 'Rs17481',\n",
       " 'Rs3470',\n",
       " 'Rs8083',\n",
       " 'Rs2581',\n",
       " 'Rs6439',\n",
       " 'Rs1437',\n",
       " 'Rs2452',\n",
       " 'Rs2315.87 Rs2084',\n",
       " 'Rs1160',\n",
       " 'Rs1445',\n",
       " 'Rs2435.65 Rs1949',\n",
       " 'Rs3423',\n",
       " 'Rs5823',\n",
       " 'Rs2186.27 Rs2077',\n",
       " 'Rs1747.62 Rs1573',\n",
       " 'Rs2605',\n",
       " 'Rs2396',\n",
       " 'Rs5367',\n",
       " 'Rs1688',\n",
       " 'Rs10980',\n",
       " 'Rs3422',\n",
       " 'Rs2562',\n",
       " 'Rs1614.52 Rs1453',\n",
       " 'Rs1909.56 Rs1719',\n",
       " 'Rs4758',\n",
       " 'Rs7816',\n",
       " 'Rs3201',\n",
       " 'Rs8252',\n",
       " 'Rs2624.57 Rs2362',\n",
       " 'Rs28749',\n",
       " 'Rs13376.11 Rs11370',\n",
       " 'Rs2892']"
      ]
     },
     "execution_count": 15,
     "metadata": {},
     "output_type": "execute_result"
    }
   ],
   "source": [
    "dorms_price=[]\n",
    "# Scraping privates from price from the given page\n",
    "dormsprice=driver.find_elements(By.XPATH,'//div[@class=\"price title-5\"]')\n",
    "for i in dormsprice:\n",
    "    dp=i.text\n",
    "    dorms_price.append(dp)\n",
    "dorms_price"
   ]
  },
  {
   "cell_type": "code",
   "execution_count": null,
   "id": "ea222e78",
   "metadata": {},
   "outputs": [],
   "source": []
  }
 ],
 "metadata": {
  "kernelspec": {
   "display_name": "Python 3 (ipykernel)",
   "language": "python",
   "name": "python3"
  },
  "language_info": {
   "codemirror_mode": {
    "name": "ipython",
    "version": 3
   },
   "file_extension": ".py",
   "mimetype": "text/x-python",
   "name": "python",
   "nbconvert_exporter": "python",
   "pygments_lexer": "ipython3",
   "version": "3.9.12"
  }
 },
 "nbformat": 4,
 "nbformat_minor": 5
}
